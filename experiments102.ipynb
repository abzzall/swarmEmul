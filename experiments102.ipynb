{
 "cells": [
  {
   "cell_type": "code",
   "execution_count": 1,
   "metadata": {
    "collapsed": true,
    "ExecuteTime": {
     "start_time": "2023-04-19T14:31:05.526432Z",
     "end_time": "2023-04-19T14:31:06.326925Z"
    }
   },
   "outputs": [
    {
     "name": "stdout",
     "output_type": "stream",
     "text": [
      "pygame 2.1.3.dev8 (SDL 2.0.22, Python 3.11.0)\n",
      "Hello from the pygame community. https://www.pygame.org/contribute.html\n"
     ]
    }
   ],
   "source": [
    "import os\n",
    "import matplotlib.pyplot as plt\n",
    "import pandas\n",
    "import numpy\n",
    "import matplotlib\n",
    "import pandas as pd\n",
    "from matplotlib.axis import Axis\n",
    "from matplotlib.figure import Figure\n",
    "from matplotlib.patches import Rectangle\n",
    "\n",
    "from env import *\n",
    "from visualiser import *\n",
    "from main import *\n",
    "from constants import *\n",
    "# import xlsxwriter\n",
    "import csv\n",
    "%matplotlib inline"
   ]
  },
  {
   "cell_type": "code",
   "execution_count": 2,
   "outputs": [],
   "source": [
    "SENSOR_RANGE = 20\n",
    "\n",
    "n=range(2, 11)\n",
    "ENV_SIZE=1000\n",
    "XL=500\n",
    "YL=150\n",
    "\n",
    "GOAL_X=500\n",
    "GOAL_Y=850\n",
    "MAX_T=100000"
   ],
   "metadata": {
    "collapsed": false,
    "ExecuteTime": {
     "start_time": "2023-04-19T14:31:06.328933Z",
     "end_time": "2023-04-19T14:31:06.332239Z"
    }
   }
  },
  {
   "cell_type": "code",
   "execution_count": 3,
   "outputs": [],
   "source": [
    "def calcDF(n):\n",
    "    return [(SENSOR_RANGE+ROBOT_RADIUS)*(i-(n-1)/2) for i in range(n)] * n, [(SENSOR_RANGE+ROBOT_RADIUS)*(i-(n-1)/2) for i in range(n)for _ in range(n) ]"
   ],
   "metadata": {
    "collapsed": false,
    "ExecuteTime": {
     "start_time": "2023-04-10T10:32:53.658167Z",
     "end_time": "2023-04-10T10:32:53.662932Z"
    }
   }
  },
  {
   "cell_type": "code",
   "execution_count": 4,
   "outputs": [],
   "source": [
    "def plot_trajectory(env, fig:Figure = None, ax:Axis=None):\n",
    "\n",
    "\tif fig is None and ax is None:\n",
    "\t\tfig=matplotlib.pyplot.figure(figsize=(16, 16))\n",
    "\tif ax is None:\n",
    "\t\tax=fig.add_subplot()\n",
    "\t# ax.invert_yaxis()\n",
    "\n",
    "\tposei=env.pose_history[:, env.N, :]\n",
    "\tfor i in range(env.N):\n",
    "\t\t\t\t\tposei=env.pose_history[:, i, :]\n",
    "\t\t\t\t\tdeadi=env.dead_history[:, i]\n",
    "\t\t\t\t\tposei=posei[~deadi]\n",
    "\t\t\t\t\tax.plot(posei[:,0], posei[:, 1], label='Agent '+str(i), color='aqua')\n",
    "\tax.plot(posei[:env.t-1,0], posei[:env.t-1, 1], linestyle='dashdot',  label='Virtual Leader', color='blue', zorder=3)\n",
    "\tline=[None]*env.N\n",
    "\n",
    "\tfor wall in env.walls:\n",
    "\t\t\t\t\tax.add_patch(Rectangle((wall.from_x, wall.from_y), wall.length_x, wall.length_y, color='black'))\n",
    "\tax.scatter(env.xL0, env.yL0, marker='*', zorder=3, color='blue', s=150)\n",
    "\tax.scatter(env.xG, env.yG, marker='*', zorder=3, color='blue', s=150)\n",
    "\tfor agent in env.agents:\n",
    "\t\t\t\t\tax.scatter(env.xL0+agent.dx, env.yL0+agent.dy, color='limegreen')\n",
    "\t\t\t\t\tax.scatter(env.pose_history[env.t-1, agent.id, 0], env.pose_history[env.t-1, agent.id, 1], color='red' if agent.is_dead else 'limegreen')\n",
    "\treturn fig\n"
   ],
   "metadata": {
    "collapsed": false,
    "ExecuteTime": {
     "start_time": "2023-04-10T10:32:53.667704Z",
     "end_time": "2023-04-10T10:32:53.670910Z"
    }
   }
  },
  {
   "cell_type": "code",
   "execution_count": 5,
   "outputs": [],
   "source": [
    "directory = '../run_exp_102'\n",
    "if not os.path.exists(directory):\n",
    "\tos.makedirs(directory)\n",
    "df=pandas.DataFrame(columns=['id','sensor_range' , 'n1', 'n2', 'n3', 'N', 'lived_agents', 'leader_goal_distance', 't', 'w1', 'w2', 'w3' ])\n",
    "df.set_index('id', inplace=True)"
   ],
   "metadata": {
    "collapsed": false,
    "ExecuteTime": {
     "start_time": "2023-04-10T10:32:53.671920Z",
     "end_time": "2023-04-10T10:32:53.742982Z"
    }
   }
  },
  {
   "cell_type": "code",
   "execution_count": 6,
   "outputs": [],
   "source": [
    "n=10"
   ],
   "metadata": {
    "collapsed": false,
    "ExecuteTime": {
     "start_time": "2023-04-10T10:32:53.687929Z",
     "end_time": "2023-04-10T10:32:53.761946Z"
    }
   }
  },
  {
   "cell_type": "code",
   "execution_count": 7,
   "outputs": [],
   "source": [
    "DX,DY=calcDF(n)\n",
    "env = Env(\n",
    "        width=ENV_SIZE, height=ENV_SIZE, goal_x=GOAL_X, goal_y=GOAL_Y, N=n ** 2,\n",
    "        desired_X=DX, desired_Y=DY, sensor_range=SENSOR_RANGE, leader_x=XL, leader_y=YL, robot_radius=ROBOT_RADIUS,\n",
    "        sensor_detection_count=SENSOR_DETECTION_COUNT, buffer_size=10000\n",
    "    )\n",
    "env.addObstacle(400, 400, 600, 600)\n"
   ],
   "metadata": {
    "collapsed": false,
    "ExecuteTime": {
     "start_time": "2023-04-10T10:32:53.692187Z",
     "end_time": "2023-04-10T10:32:53.764037Z"
    }
   }
  },
  {
   "cell_type": "code",
   "execution_count": 8,
   "outputs": [],
   "source": [
    "episode_gui(env, 12.3, 1, 1)"
   ],
   "metadata": {
    "collapsed": false,
    "ExecuteTime": {
     "start_time": "2023-04-09T12:32:17.375508Z",
     "end_time": "2023-04-09T12:32:21.782075Z"
    }
   }
  },
  {
   "cell_type": "code",
   "execution_count": 9,
   "outputs": [],
   "source": [
    "# alive_agent_count(env)"
   ],
   "metadata": {
    "collapsed": false,
    "ExecuteTime": {
     "start_time": "2023-04-09T12:32:24.155050Z",
     "end_time": "2023-04-09T12:32:24.176110Z"
    }
   }
  },
  {
   "cell_type": "code",
   "execution_count": 8,
   "outputs": [],
   "source": [
    "n_max=20\n",
    "if not os.path.exists(directory):\n",
    "\tos.makedirs(directory)\n",
    "df=pandas.DataFrame(columns=['id','sensor_range' , 'n1', 'n2', 'n3', 'N', 'lived_agents', 'leader_goal_distance', 't', 'w1', 'w2', 'w3' ])\n",
    "df.set_index('id', inplace=True)"
   ],
   "metadata": {
    "collapsed": false,
    "ExecuteTime": {
     "start_time": "2023-04-10T10:32:57.262828Z",
     "end_time": "2023-04-10T10:32:57.275288Z"
    }
   }
  },
  {
   "cell_type": "code",
   "execution_count": 9,
   "outputs": [],
   "source": [
    "# df[df['t']==50000]"
   ],
   "metadata": {
    "collapsed": false,
    "ExecuteTime": {
     "start_time": "2023-04-10T10:32:58.794579Z",
     "end_time": "2023-04-10T10:32:58.819516Z"
    }
   }
  },
  {
   "cell_type": "code",
   "execution_count": 10,
   "outputs": [
    {
     "name": "stdout",
     "output_type": "stream",
     "text": [
      "w3= 0.1\n",
      "run=20.0\n"
     ]
    },
    {
     "ename": "KeyboardInterrupt",
     "evalue": "",
     "output_type": "error",
     "traceback": [
      "\u001B[1;31m---------------------------------------------------------------------------\u001B[0m",
      "\u001B[1;31mKeyboardInterrupt\u001B[0m                         Traceback (most recent call last)",
      "Cell \u001B[1;32mIn[10], line 42\u001B[0m\n\u001B[0;32m     40\u001B[0m ep_file \u001B[38;5;241m=\u001B[39m os\u001B[38;5;241m.\u001B[39mpath\u001B[38;5;241m.\u001B[39mjoin(directory, \u001B[38;5;28mstr\u001B[39m(run) \u001B[38;5;241m+\u001B[39m \u001B[38;5;124m'\u001B[39m\u001B[38;5;124m_\u001B[39m\u001B[38;5;124m'\u001B[39m \u001B[38;5;241m+\u001B[39m \u001B[38;5;28mstr\u001B[39m(n) \u001B[38;5;241m+\u001B[39m \u001B[38;5;124m'\u001B[39m\u001B[38;5;124m_\u001B[39m\u001B[38;5;124m'\u001B[39m \u001B[38;5;241m+\u001B[39m \u001B[38;5;28mstr\u001B[39m(w1) \u001B[38;5;241m+\u001B[39m \u001B[38;5;124m'\u001B[39m\u001B[38;5;124m_\u001B[39m\u001B[38;5;124m'\u001B[39m \u001B[38;5;241m+\u001B[39m \u001B[38;5;28mstr\u001B[39m(w2) \u001B[38;5;241m+\u001B[39m \u001B[38;5;124m'\u001B[39m\u001B[38;5;124m_\u001B[39m\u001B[38;5;124m'\u001B[39m \u001B[38;5;241m+\u001B[39m \u001B[38;5;28mstr\u001B[39m(w3))\n\u001B[0;32m     41\u001B[0m \u001B[38;5;66;03m#'id','sensor_range' , 'w1', 'w2', 'w3', 'N', 'lived_agents', 1'leader_goal_distance', 't', 'v_mean'\u001B[39;00m\n\u001B[1;32m---> 42\u001B[0m \u001B[43menv\u001B[49m\u001B[38;5;241;43m.\u001B[39;49m\u001B[43mepisode\u001B[49m\u001B[43m(\u001B[49m\u001B[43mw1\u001B[49m\u001B[43m,\u001B[49m\u001B[43m \u001B[49m\u001B[43mw2\u001B[49m\u001B[43m,\u001B[49m\u001B[43m \u001B[49m\u001B[43mw3\u001B[49m\u001B[43m)\u001B[49m\n\u001B[0;32m     43\u001B[0m \u001B[38;5;66;03m# env.save_episode(ep_file)\u001B[39;00m\n\u001B[0;32m     45\u001B[0m row \u001B[38;5;241m=\u001B[39m [SENSOR_RANGE, n1, n2, n3, n, alive_agent_count(env), leader_goal_distance(env), env\u001B[38;5;241m.\u001B[39mt, w1, w2, w3]\n",
      "File \u001B[1;32m~\\workspace\\swarmEmul\\env.py:113\u001B[0m, in \u001B[0;36mEnv.episode\u001B[1;34m(self, w1, w2, w3, killed)\u001B[0m\n\u001B[0;32m    111\u001B[0m \u001B[38;5;28mself\u001B[39m\u001B[38;5;241m.\u001B[39mreset_leader()\n\u001B[0;32m    112\u001B[0m \u001B[38;5;28;01mwhile\u001B[39;00m \u001B[38;5;129;01mnot\u001B[39;00m \u001B[38;5;28mself\u001B[39m\u001B[38;5;241m.\u001B[39mis_done:\n\u001B[1;32m--> 113\u001B[0m     \u001B[38;5;28;43mself\u001B[39;49m\u001B[38;5;241;43m.\u001B[39;49m\u001B[43mplay_step\u001B[49m\u001B[43m(\u001B[49m\u001B[43mw1\u001B[49m\u001B[43m,\u001B[49m\u001B[43m \u001B[49m\u001B[43mw2\u001B[49m\u001B[43m,\u001B[49m\u001B[43m \u001B[49m\u001B[43mw3\u001B[49m\u001B[43m)\u001B[49m\n",
      "File \u001B[1;32m~\\workspace\\swarmEmul\\env.py:119\u001B[0m, in \u001B[0;36mEnv.play_step\u001B[1;34m(self, w1, w2, w3)\u001B[0m\n\u001B[0;32m    117\u001B[0m \u001B[38;5;28mself\u001B[39m\u001B[38;5;241m.\u001B[39mobserve()\n\u001B[0;32m    118\u001B[0m moving \u001B[38;5;241m=\u001B[39m \u001B[38;5;28;01mFalse\u001B[39;00m\n\u001B[1;32m--> 119\u001B[0m \u001B[38;5;28;43mself\u001B[39;49m\u001B[38;5;241;43m.\u001B[39;49m\u001B[43mcheck_dead\u001B[49m\u001B[43m(\u001B[49m\u001B[43m)\u001B[49m\n\u001B[0;32m    120\u001B[0m \u001B[38;5;28mself\u001B[39m\u001B[38;5;241m.\u001B[39mreset_leader()\n\u001B[0;32m    121\u001B[0m \u001B[38;5;28;01mfor\u001B[39;00m i \u001B[38;5;129;01min\u001B[39;00m \u001B[38;5;28mrange\u001B[39m(\u001B[38;5;28mself\u001B[39m\u001B[38;5;241m.\u001B[39mN):\n",
      "File \u001B[1;32m~\\workspace\\swarmEmul\\env.py:157\u001B[0m, in \u001B[0;36mEnv.check_dead\u001B[1;34m(self)\u001B[0m\n\u001B[0;32m    155\u001B[0m     \u001B[38;5;28;01mcontinue\u001B[39;00m\n\u001B[0;32m    156\u001B[0m \u001B[38;5;28;01mfor\u001B[39;00m drawable \u001B[38;5;129;01min\u001B[39;00m \u001B[38;5;28mself\u001B[39m\u001B[38;5;241m.\u001B[39magents:\n\u001B[1;32m--> 157\u001B[0m     \u001B[38;5;28;01mif\u001B[39;00m drawable \u001B[38;5;241m!=\u001B[39m agent \u001B[38;5;129;01mand\u001B[39;00m \u001B[38;5;129;01mnot\u001B[39;00m drawable\u001B[38;5;241m.\u001B[39mis_dead \u001B[38;5;129;01mand\u001B[39;00m \u001B[43magent\u001B[49m\u001B[38;5;241;43m.\u001B[39;49m\u001B[43mis_collide\u001B[49m\u001B[43m(\u001B[49m\u001B[43mdrawable\u001B[49m\u001B[43m)\u001B[49m:\n\u001B[0;32m    158\u001B[0m         agent\u001B[38;5;241m.\u001B[39mis_dead \u001B[38;5;241m=\u001B[39m \u001B[38;5;28;01mTrue\u001B[39;00m\n\u001B[0;32m    159\u001B[0m         drawable\u001B[38;5;241m.\u001B[39mis_dead \u001B[38;5;241m=\u001B[39m \u001B[38;5;28;01mTrue\u001B[39;00m\n",
      "File \u001B[1;32m~\\workspace\\swarmEmul\\env.py:251\u001B[0m, in \u001B[0;36mDrawable.is_collide\u001B[1;34m(self, drawable)\u001B[0m\n\u001B[0;32m    243\u001B[0m \u001B[38;5;28;01mdef\u001B[39;00m \u001B[38;5;21mis_collide\u001B[39m(\u001B[38;5;28mself\u001B[39m, drawable):\n\u001B[0;32m    244\u001B[0m     \u001B[38;5;28;01mreturn\u001B[39;00m \u001B[38;5;28mself\u001B[39m\u001B[38;5;241m.\u001B[39mcontains_point(drawable\u001B[38;5;241m.\u001B[39mfrom_x, drawable\u001B[38;5;241m.\u001B[39mfrom_y) \\\n\u001B[0;32m    245\u001B[0m            \u001B[38;5;129;01mor\u001B[39;00m \u001B[38;5;28mself\u001B[39m\u001B[38;5;241m.\u001B[39mcontains_point(drawable\u001B[38;5;241m.\u001B[39mfrom_x, drawable\u001B[38;5;241m.\u001B[39mto_y) \\\n\u001B[0;32m    246\u001B[0m            \u001B[38;5;129;01mor\u001B[39;00m \u001B[38;5;28mself\u001B[39m\u001B[38;5;241m.\u001B[39mcontains_point(drawable\u001B[38;5;241m.\u001B[39mto_x, drawable\u001B[38;5;241m.\u001B[39mto_y) \\\n\u001B[0;32m    247\u001B[0m            \u001B[38;5;129;01mor\u001B[39;00m \u001B[38;5;28mself\u001B[39m\u001B[38;5;241m.\u001B[39mcontains_point(drawable\u001B[38;5;241m.\u001B[39mto_x, drawable\u001B[38;5;241m.\u001B[39mfrom_y) \\\n\u001B[0;32m    248\u001B[0m            \u001B[38;5;129;01mor\u001B[39;00m drawable\u001B[38;5;241m.\u001B[39mcontains_point(\u001B[38;5;28mself\u001B[39m\u001B[38;5;241m.\u001B[39mfrom_x, \u001B[38;5;28mself\u001B[39m\u001B[38;5;241m.\u001B[39mfrom_y) \\\n\u001B[0;32m    249\u001B[0m            \u001B[38;5;129;01mor\u001B[39;00m drawable\u001B[38;5;241m.\u001B[39mcontains_point(\u001B[38;5;28mself\u001B[39m\u001B[38;5;241m.\u001B[39mfrom_x, \u001B[38;5;28mself\u001B[39m\u001B[38;5;241m.\u001B[39mto_y) \\\n\u001B[0;32m    250\u001B[0m            \u001B[38;5;129;01mor\u001B[39;00m drawable\u001B[38;5;241m.\u001B[39mcontains_point(\u001B[38;5;28mself\u001B[39m\u001B[38;5;241m.\u001B[39mto_x, \u001B[38;5;28mself\u001B[39m\u001B[38;5;241m.\u001B[39mto_y) \\\n\u001B[1;32m--> 251\u001B[0m            \u001B[38;5;129;01mor\u001B[39;00m \u001B[43mdrawable\u001B[49m\u001B[38;5;241;43m.\u001B[39;49m\u001B[43mcontains_point\u001B[49m\u001B[43m(\u001B[49m\u001B[38;5;28;43mself\u001B[39;49m\u001B[38;5;241;43m.\u001B[39;49m\u001B[43mto_x\u001B[49m\u001B[43m,\u001B[49m\u001B[43m \u001B[49m\u001B[38;5;28;43mself\u001B[39;49m\u001B[38;5;241;43m.\u001B[39;49m\u001B[43mfrom_y\u001B[49m\u001B[43m)\u001B[49m \\\n\u001B[0;32m    252\u001B[0m            \u001B[38;5;129;01mor\u001B[39;00m (\u001B[38;5;28mself\u001B[39m\u001B[38;5;241m.\u001B[39mfrom_x \u001B[38;5;241m<\u001B[39m\u001B[38;5;241m=\u001B[39m drawable\u001B[38;5;241m.\u001B[39mfrom_x \u001B[38;5;129;01mand\u001B[39;00m \u001B[38;5;28mself\u001B[39m\u001B[38;5;241m.\u001B[39mto_x \u001B[38;5;241m>\u001B[39m\u001B[38;5;241m=\u001B[39m drawable\u001B[38;5;241m.\u001B[39mto_x \u001B[38;5;129;01mand\u001B[39;00m \u001B[38;5;28mself\u001B[39m\u001B[38;5;241m.\u001B[39mfrom_y \u001B[38;5;241m>\u001B[39m\u001B[38;5;241m=\u001B[39m drawable\u001B[38;5;241m.\u001B[39mfrom_y \u001B[38;5;129;01mand\u001B[39;00m\n\u001B[0;32m    253\u001B[0m                \u001B[38;5;28mself\u001B[39m\u001B[38;5;241m.\u001B[39mto_y \u001B[38;5;241m<\u001B[39m\u001B[38;5;241m=\u001B[39m drawable\u001B[38;5;241m.\u001B[39mto_y) \\\n\u001B[0;32m    254\u001B[0m            \u001B[38;5;129;01mor\u001B[39;00m (\u001B[38;5;28mself\u001B[39m\u001B[38;5;241m.\u001B[39mfrom_x \u001B[38;5;241m>\u001B[39m\u001B[38;5;241m=\u001B[39m drawable\u001B[38;5;241m.\u001B[39mfrom_x \u001B[38;5;129;01mand\u001B[39;00m \u001B[38;5;28mself\u001B[39m\u001B[38;5;241m.\u001B[39mto_x \u001B[38;5;241m<\u001B[39m\u001B[38;5;241m=\u001B[39m drawable\u001B[38;5;241m.\u001B[39mto_x \u001B[38;5;129;01mand\u001B[39;00m \u001B[38;5;28mself\u001B[39m\u001B[38;5;241m.\u001B[39mfrom_y \u001B[38;5;241m<\u001B[39m\u001B[38;5;241m=\u001B[39m drawable\u001B[38;5;241m.\u001B[39mfrom_y \u001B[38;5;129;01mand\u001B[39;00m\n\u001B[0;32m    255\u001B[0m                \u001B[38;5;28mself\u001B[39m\u001B[38;5;241m.\u001B[39mto_y \u001B[38;5;241m>\u001B[39m\u001B[38;5;241m=\u001B[39m drawable\u001B[38;5;241m.\u001B[39mto_y)\n",
      "File \u001B[1;32m~\\workspace\\swarmEmul\\env.py:241\u001B[0m, in \u001B[0;36mDrawable.contains_point\u001B[1;34m(self, x, y)\u001B[0m\n\u001B[0;32m    240\u001B[0m \u001B[38;5;28;01mdef\u001B[39;00m \u001B[38;5;21mcontains_point\u001B[39m(\u001B[38;5;28mself\u001B[39m, x, y):\n\u001B[1;32m--> 241\u001B[0m     \u001B[38;5;28;01mreturn\u001B[39;00m \u001B[38;5;28;43mself\u001B[39;49m\u001B[38;5;241;43m.\u001B[39;49m\u001B[43mfrom_x\u001B[49m \u001B[38;5;241m<\u001B[39m\u001B[38;5;241m=\u001B[39m x \u001B[38;5;241m<\u001B[39m\u001B[38;5;241m=\u001B[39m \u001B[38;5;28mself\u001B[39m\u001B[38;5;241m.\u001B[39mto_x \u001B[38;5;129;01mand\u001B[39;00m \u001B[38;5;28mself\u001B[39m\u001B[38;5;241m.\u001B[39mfrom_y \u001B[38;5;241m<\u001B[39m\u001B[38;5;241m=\u001B[39m y \u001B[38;5;241m<\u001B[39m\u001B[38;5;241m=\u001B[39m \u001B[38;5;28mself\u001B[39m\u001B[38;5;241m.\u001B[39mto_y\n",
      "File \u001B[1;32m~\\workspace\\swarmEmul\\env.py:337\u001B[0m, in \u001B[0;36mDrawable.from_x\u001B[1;34m(self)\u001B[0m\n\u001B[0;32m    334\u001B[0m                 \u001B[38;5;28;01mreturn\u001B[39;00m getDistance(x, y, x_intersection, \u001B[38;5;28mself\u001B[39m\u001B[38;5;241m.\u001B[39mfrom_y)\n\u001B[0;32m    335\u001B[0m     \u001B[38;5;28;01mreturn\u001B[39;00m \u001B[38;5;241m-\u001B[39m\u001B[38;5;241m1\u001B[39m\n\u001B[1;32m--> 337\u001B[0m \u001B[38;5;129m@property\u001B[39m\n\u001B[0;32m    338\u001B[0m \u001B[38;5;28;01mdef\u001B[39;00m \u001B[38;5;21mfrom_x\u001B[39m(\u001B[38;5;28mself\u001B[39m):\n\u001B[0;32m    339\u001B[0m     \u001B[38;5;28;01mif\u001B[39;00m \u001B[38;5;28mself\u001B[39m\u001B[38;5;241m.\u001B[39m_from_x \u001B[38;5;129;01mis\u001B[39;00m \u001B[38;5;28;01mNone\u001B[39;00m:\n\u001B[0;32m    340\u001B[0m         \u001B[38;5;28mself\u001B[39m\u001B[38;5;241m.\u001B[39m_from_x \u001B[38;5;241m=\u001B[39m \u001B[38;5;28mself\u001B[39m\u001B[38;5;241m.\u001B[39mx \u001B[38;5;241m-\u001B[39m \u001B[38;5;28mself\u001B[39m\u001B[38;5;241m.\u001B[39mlength_x \u001B[38;5;241m/\u001B[39m \u001B[38;5;241m2\u001B[39m\n",
      "\u001B[1;31mKeyboardInterrupt\u001B[0m: "
     ]
    }
   ],
   "source": [
    "# file_name=os.path.join(directory, 'var.npz')\n",
    "n_max=20\n",
    "directory = '../run_exp_132'\n",
    "if not os.path.exists(directory):\n",
    "\tos.makedirs(directory)\n",
    "\n",
    "csv_file_name = os.path.join(directory, 'report.csv')\n",
    "if os.path.exists(csv_file_name):\n",
    "\tdf = pandas.read_csv(csv_file_name, header=None,\n",
    "\t\t\t\t\t\t names=['id', 'sensor_range', 'n1', 'n2', 'n3', 'N', 'lived_agents', 'leader_goal_distance',\n",
    "\t\t\t\t\t\t\t\t't', 'w1', 'w2', 'w3'])\n",
    "\trun, _, n01, n02, n03, n00, _, _, _, _, _, _ = list(df.iloc[-1])\n",
    "\t# cur_state=numpy.load(file_name)\n",
    "\t# n03=int(n03)-1\n",
    "\t# n00=int(n00)\n",
    "\t# n01=int(n01)\n",
    "\tn03 = int(n03) - 1\n",
    "\tdf.set_index('id', inplace=True)\n",
    "else:\n",
    "\t# killed_list=[]\n",
    "\t# n01=n_max\n",
    "\tn03 = n_max\n",
    "\t# n03 = n_max\n",
    "\trun = 0\n",
    "# n00=2\n",
    "\n",
    "fig = plt.Figure()\n",
    "ax = fig.add_subplot()\n",
    "\n",
    "n = 10\n",
    "w1 = 1\n",
    "w2 = 1\n",
    "n1 = 10\n",
    "n2 = 10\n",
    "for n3 in range(n03, -1, -1):\n",
    "\trun = run + 1\n",
    "\tw3 = n3 / 10\n",
    "\tprint('w3=', w3)\n",
    "\tprint('run=' + str(run))\n",
    "\tep_file = os.path.join(directory, str(run) + '_' + str(n) + '_' + str(w1) + '_' + str(w2) + '_' + str(w3))\n",
    "\t#'id','sensor_range' , 'w1', 'w2', 'w3', 'N', 'lived_agents', 1'leader_goal_distance', 't', 'v_mean'\n",
    "\tenv.episode(w1, w2, w3)\n",
    "\t# env.save_episode(ep_file)\n",
    "\n",
    "\trow = [SENSOR_RANGE, n1, n2, n3, n, alive_agent_count(env), leader_goal_distance(env), env.t, w1, w2, w3]\n",
    "\tdf.loc[run] = row\n",
    "\tprint(row)\n",
    "\t# env.episode(w1/10, w2/10, w3/10, killed_list)\n",
    "\t# env.save_episode(ep_file+'a')\n",
    "\n",
    "\t# numpy.savez(file_name, run=run, n1=n1, n2=n2, n3=n3, n=n)\n",
    "\n",
    "\tplot_trajectory(env, ax=ax)\n",
    "\tplt_file = ep_file + '.jpg'\n",
    "\tfig.savefig(plt_file)\n",
    "\tax.clear()\n",
    "\t# df.iloc[-1].to_csv(csv, mode='a', index=False, header=False)\n",
    "\t# run=run+1\n",
    "\twith open(csv_file_name, 'a', newline='') as f:\n",
    "\t\twriter = csv.writer(f)\n",
    "\t\twriter.writerow([run] + row)\n",
    "\n",
    "# run=run+1\n",
    "# df.to_csv()\n",
    "\n",
    "n03 = n_max"
   ],
   "metadata": {
    "collapsed": false
   }
  },
  {
   "cell_type": "code",
   "execution_count": 11,
   "outputs": [],
   "source": [
    "df_=df[df['lived_agents']>0]"
   ],
   "metadata": {
    "collapsed": false,
    "ExecuteTime": {
     "start_time": "2023-04-10T10:33:07.679065Z",
     "end_time": "2023-04-10T10:33:07.690815Z"
    }
   }
  },
  {
   "cell_type": "code",
   "execution_count": 13,
   "outputs": [],
   "source": [
    "df_=df_[df_['leader_goal_distance']>0]\n",
    "n1_re=list(df_['n1'])\n",
    "n1_re=[\n",
    "\t# 76,\n",
    " # 123,\n",
    " # 145,\n",
    " # 147,\n",
    " # 150,\n",
    " # 154,\n",
    " # 156,\n",
    " # 158,\n",
    " 160,\n",
    " 163,\n",
    " 171,\n",
    " 175,\n",
    " 181,\n",
    " 182,\n",
    " 185,\n",
    " 186,\n",
    " 187,\n",
    " 189,\n",
    " 190,\n",
    " 191,\n",
    " 192,\n",
    " 196,\n",
    " 197,\n",
    " 199]"
   ],
   "metadata": {
    "collapsed": false,
    "ExecuteTime": {
     "start_time": "2023-04-09T12:32:47.428703Z",
     "end_time": "2023-04-09T12:32:47.652685Z"
    }
   }
  },
  {
   "cell_type": "code",
   "execution_count": 12,
   "outputs": [],
   "source": [
    "directory = '../run_exp_112'\n",
    "if not os.path.exists(directory):\n",
    "\tos.makedirs(directory)\n",
    "\n",
    "csv_file_name = os.path.join(directory, 'report.csv')\n",
    "if os.path.exists(csv_file_name):\n",
    "\tdf = pandas.read_csv(csv_file_name, header=None,\n",
    "\t\t\t\t\t\t names=['id', 'sensor_range', 'n1', 'n2', 'n3', 'N', 'lived_agents', 'leader_goal_distance',\n",
    "\t\t\t\t\t\t\t\t't', 'w1', 'w2', 'w3'])\n",
    "\trun, _, n01, n02, n03, n00, _, _, _, _, _, _ = list(df.iloc[-1])\n",
    "\t# cur_state=numpy.load(file_name)\n",
    "\t# n03=int(n03)-1\n",
    "\t# n00=int(n00)\n",
    "\t# n01=int(n01)\n",
    "\tn01 = int(n01) + 1\n",
    "\tdf.set_index('id', inplace=True)\n"
   ],
   "metadata": {
    "collapsed": false,
    "ExecuteTime": {
     "start_time": "2023-04-10T10:33:16.786487Z",
     "end_time": "2023-04-10T10:33:16.807017Z"
    }
   }
  },
  {
   "cell_type": "code",
   "execution_count": 13,
   "outputs": [],
   "source": [
    "# df=df[df['w1']<=10]\n",
    "df.loc[df['leader_goal_distance']>1, 't']=None\n",
    "\n",
    "df[df['leader_goal_distance']>1]\n",
    "df=df.drop([77.0])"
   ],
   "metadata": {
    "collapsed": false,
    "ExecuteTime": {
     "start_time": "2023-04-10T10:33:22.040381Z",
     "end_time": "2023-04-10T10:33:22.065058Z"
    }
   }
  },
  {
   "cell_type": "code",
   "execution_count": 14,
   "outputs": [
    {
     "data": {
      "text/plain": "[<matplotlib.axis.XTick at 0x1d8973bb310>,\n <matplotlib.axis.XTick at 0x1d8973e6250>,\n <matplotlib.axis.XTick at 0x1d8971c7450>,\n <matplotlib.axis.XTick at 0x1d897441710>,\n <matplotlib.axis.XTick at 0x1d897442dd0>,\n <matplotlib.axis.XTick at 0x1d897451090>,\n <matplotlib.axis.XTick at 0x1d897450190>,\n <matplotlib.axis.XTick at 0x1d897453d90>,\n <matplotlib.axis.XTick at 0x1d89758ed90>,\n <matplotlib.axis.XTick at 0x1d897591050>,\n <matplotlib.axis.XTick at 0x1d897593390>,\n <matplotlib.axis.XTick at 0x1d89758d150>,\n <matplotlib.axis.XTick at 0x1d89759e090>,\n <matplotlib.axis.XTick at 0x1d8975a4490>,\n <matplotlib.axis.XTick at 0x1d8975a4c10>,\n <matplotlib.axis.XTick at 0x1d8975a8b50>,\n <matplotlib.axis.XTick at 0x1d89759e850>,\n <matplotlib.axis.XTick at 0x1d8975ab5d0>,\n <matplotlib.axis.XTick at 0x1d8975ad8d0>,\n <matplotlib.axis.XTick at 0x1d8975afb90>,\n <matplotlib.axis.XTick at 0x1d8975b1c90>]"
     },
     "execution_count": 14,
     "metadata": {},
     "output_type": "execute_result"
    },
    {
     "data": {
      "text/plain": "<Figure size 1000x1000 with 1 Axes>",
      "image/png": "[encoded data removed]"
     },
     "metadata": {},
     "output_type": "display_data"
    }
   ],
   "source": [
    "df100=df[df['w1']<=10]\n",
    "df100=df100.sort_values('w1')\n",
    "fig, ax = plt.subplots(figsize=(10, 10))\n",
    "# Plot the data on the axis\n",
    "# ax.plot(df100['w1'], df100['lived_agents'])\n",
    "ax.plot(df100['w1'], df100['t'])\n",
    "\n",
    "# Add labels and title\n",
    "ax.set_xlabel('w1')\n",
    "ax.set_ylabel(\"count of the steps to reach the goal\")\n",
    "ax.set_title('The change of the count of the steps to reach the goal')\n",
    "ax.grid(True)\n",
    "# ax.set_yticks(range(0,101, 2))\n",
    "ax.set_xticks(numpy.array([*range(0, 101, 5)])/10)"
   ],
   "metadata": {
    "collapsed": false,
    "ExecuteTime": {
     "start_time": "2023-04-10T10:33:24.998367Z",
     "end_time": "2023-04-10T10:33:25.261443Z"
    }
   }
  },
  {
   "cell_type": "code",
   "execution_count": 17,
   "outputs": [
    {
     "data": {
      "text/plain": "2786.0"
     },
     "execution_count": 17,
     "metadata": {},
     "output_type": "execute_result"
    }
   ],
   "source": [
    "df.t.max()"
   ],
   "metadata": {
    "collapsed": false,
    "ExecuteTime": {
     "start_time": "2023-04-09T12:32:56.789017Z",
     "end_time": "2023-04-09T12:32:56.849565Z"
    }
   }
  },
  {
   "cell_type": "code",
   "execution_count": 17,
   "outputs": [],
   "source": [],
   "metadata": {
    "collapsed": false,
    "ExecuteTime": {
     "start_time": "2023-04-09T12:32:58.718609Z",
     "end_time": "2023-04-09T12:32:58.770630Z"
    }
   }
  },
  {
   "cell_type": "code",
   "execution_count": null,
   "outputs": [
    {
     "name": "stdout",
     "output_type": "stream",
     "text": [
      "w1= 0.0\n",
      "run=1\n",
      "[20, 0, 10, 10, 10, 0, 359.0, 343, 0.0, 1, 1]\n",
      "w1= 0.1\n",
      "run=2\n",
      "[20, 1, 10, 10, 10, 0, 358.34102959536256, 344, 0.1, 1, 1]\n",
      "w1= 0.2\n",
      "run=3\n",
      "[20, 2, 10, 10, 10, 0, 358.8577285035758, 344, 0.2, 1, 1]\n",
      "w1= 0.3\n",
      "run=4\n",
      "[20, 3, 10, 10, 10, 0, 358.7459463690784, 345, 0.3, 1, 1]\n",
      "w1= 0.4\n",
      "run=5\n",
      "[20, 4, 10, 10, 10, 1, 0.39830722651330774, 706, 0.4, 1, 1]\n",
      "w1= 0.5\n",
      "run=6\n",
      "[20, 5, 10, 10, 10, 1, 0.6918678210171101, 708, 0.5, 1, 1]\n",
      "w1= 0.6\n",
      "run=7\n",
      "[20, 6, 10, 10, 10, 2, 0.7943218288190224, 709, 0.6, 1, 1]\n",
      "w1= 0.7\n",
      "run=8\n",
      "[20, 7, 10, 10, 10, 2, 0.6902984658994046, 712, 0.7, 1, 1]\n",
      "w1= 0.8\n",
      "run=9\n",
      "[20, 8, 10, 10, 10, 3, 0.6189940223109318, 713, 0.8, 1, 1]\n",
      "w1= 0.9\n",
      "run=10\n",
      "[20, 9, 10, 10, 10, 3, 0.9583311100281606, 713, 0.9, 1, 1]\n",
      "w1= 1.0\n",
      "run=11\n",
      "[20, 10, 10, 10, 10, 4, 0.5059637286881423, 715, 1.0, 1, 1]\n",
      "w1= 1.1\n",
      "run=12\n",
      "[20, 11, 10, 10, 10, 4, 0.749281581669261, 718, 1.1, 1, 1]\n",
      "w1= 1.2\n",
      "run=13\n",
      "[20, 12, 10, 10, 10, 5, 0.38041835018190523, 720, 1.2, 1, 1]\n",
      "w1= 1.3\n",
      "run=14\n",
      "[20, 13, 10, 10, 10, 6, 0.6494507584861754, 723, 1.3, 1, 1]\n",
      "w1= 1.4\n",
      "run=15\n",
      "[20, 14, 10, 10, 10, 7, 0.901953144974232, 723, 1.4, 1, 1]\n",
      "w1= 1.5\n",
      "run=16\n",
      "[20, 15, 10, 10, 10, 7, 1.0022921166210639, 728, 1.5, 1, 1]\n",
      "w1= 1.6\n",
      "run=17\n",
      "[20, 16, 10, 10, 10, 9, 0.12436167534043223, 730, 1.6, 1, 1]\n",
      "w1= 1.7\n",
      "run=18\n",
      "[20, 17, 10, 10, 10, 9, 0.8107696587895865, 735, 1.7, 1, 1]\n",
      "w1= 1.8\n",
      "run=19\n",
      "[20, 18, 10, 10, 10, 11, 0.0813276847126915, 744, 1.8, 1, 1]\n",
      "w1= 1.9\n",
      "run=20\n",
      "[20, 19, 10, 10, 10, 13, 0.7985714888558781, 751, 1.9, 1, 1]\n",
      "w1= 2.0\n",
      "run=21\n",
      "[20, 20, 10, 10, 10, 15, 0.3715197902996365, 773, 2.0, 1, 1]\n",
      "w1= 2.1\n",
      "run=22\n",
      "[20, 21, 10, 10, 10, 20, 0.9054383758094974, 801, 2.1, 1, 1]\n",
      "w1= 2.2\n",
      "run=23\n",
      "[20, 22, 10, 10, 10, 25, 0.9761153512565213, 868, 2.2, 1, 1]\n",
      "w1= 2.3\n",
      "run=24\n",
      "[20, 23, 10, 10, 10, 37, 1.0282450404946095, 1021, 2.3, 1, 1]\n",
      "w1= 2.4\n",
      "run=25\n",
      "[20, 24, 10, 10, 10, 52, 1.1893898570615034, 1209, 2.4, 1, 1]\n",
      "w1= 2.5\n",
      "run=26\n",
      "[20, 25, 10, 10, 10, 82, 1.020383335702336, 1205, 2.5, 1, 1]\n",
      "w1= 2.6\n",
      "run=27\n",
      "[20, 26, 10, 10, 10, 88, 0.9403527509685288, 1164, 2.6, 1, 1]\n",
      "w1= 2.7\n",
      "run=28\n",
      "[20, 27, 10, 10, 10, 91, 1.1421638351336472, 1127, 2.7, 1, 1]\n",
      "w1= 2.8\n",
      "run=29\n",
      "[20, 28, 10, 10, 10, 88, 1.1300884873222434, 1106, 2.8, 1, 1]\n",
      "w1= 2.9\n",
      "run=30\n",
      "[20, 29, 10, 10, 10, 89, 0.353830229645561, 1070, 2.9, 1, 1]\n",
      "w1= 3.0\n",
      "run=31\n",
      "[20, 30, 10, 10, 10, 87, 0.4687397595411629, 1072, 3.0, 1, 1]\n",
      "w1= 3.1\n",
      "run=32\n",
      "[20, 31, 10, 10, 10, 92, 0.2508327780232185, 1045, 3.1, 1, 1]\n",
      "w1= 3.2\n",
      "run=33\n",
      "[20, 32, 10, 10, 10, 90, 1.1434812882707375, 1046, 3.2, 1, 1]\n",
      "w1= 3.3\n",
      "run=34\n",
      "[20, 33, 10, 10, 10, 86, 1.1898216246854092, 1019, 3.3, 1, 1]\n",
      "w1= 3.4\n",
      "run=35\n",
      "[20, 34, 10, 10, 10, 82, 0.7661729216411804, 1027, 3.4, 1, 1]\n",
      "w1= 3.5\n",
      "run=36\n",
      "[20, 35, 10, 10, 10, 88, 1.059029898714462, 1011, 3.5, 1, 1]\n",
      "w1= 3.6\n",
      "run=37\n",
      "[20, 36, 10, 10, 10, 86, 1.0174262284394957, 1060, 3.6, 1, 1]\n",
      "w1= 3.7\n",
      "run=38\n",
      "[20, 37, 10, 10, 10, 84, 0.31759237816894964, 1034, 3.7, 1, 1]\n",
      "w1= 3.8\n",
      "run=39\n",
      "[20, 38, 10, 10, 10, 92, 0.5274367028358532, 997, 3.8, 1, 1]\n",
      "w1= 3.9\n",
      "run=40\n",
      "[20, 39, 10, 10, 10, 88, 1.1020973217819867, 1015, 3.9, 1, 1]\n",
      "w1= 4.0\n",
      "run=41\n",
      "[20, 40, 10, 10, 10, 84, 0.20365304216938931, 1010, 4.0, 1, 1]\n",
      "w1= 4.1\n",
      "run=42\n",
      "[20, 41, 10, 10, 10, 88, 0.42193348509591644, 959, 4.1, 1, 1]\n",
      "w1= 4.2\n",
      "run=43\n",
      "[20, 42, 10, 10, 10, 88, 0.7825445718117815, 962, 4.2, 1, 1]\n",
      "w1= 4.3\n",
      "run=44\n",
      "[20, 43, 10, 10, 10, 90, 0.3359499480966749, 1025, 4.3, 1, 1]\n",
      "w1= 4.4\n",
      "run=45\n",
      "[20, 44, 10, 10, 10, 92, 0.24525231698318384, 966, 4.4, 1, 1]\n",
      "w1= 4.5\n",
      "run=46\n",
      "[20, 45, 10, 10, 10, 88, 0.4753105562962759, 960, 4.5, 1, 1]\n",
      "w1= 4.6\n",
      "run=47\n",
      "[20, 46, 10, 10, 10, 88, 0.8659524235002098, 970, 4.6, 1, 1]\n",
      "w1= 4.7\n",
      "run=48\n",
      "[20, 47, 10, 10, 10, 86, 0.5477134611250855, 949, 4.7, 1, 1]\n",
      "w1= 4.8\n",
      "run=49\n",
      "[20, 48, 10, 10, 10, 86, 0.5291476892519026, 939, 4.8, 1, 1]\n",
      "w1= 4.9\n",
      "run=50\n",
      "[20, 49, 10, 10, 10, 86, 0.7036183331847516, 982, 4.9, 1, 1]\n",
      "w1= 5.0\n",
      "run=51\n",
      "[20, 50, 10, 10, 10, 88, 0.7893615892050606, 1090, 5.0, 1, 1]\n",
      "w1= 5.1\n",
      "run=52\n",
      "[20, 51, 10, 10, 10, 78, 0.13939927463729335, 1007, 5.1, 1, 1]\n",
      "w1= 5.2\n",
      "run=53\n",
      "[20, 52, 10, 10, 10, 82, 0.5214446131069385, 1106, 5.2, 1, 1]\n",
      "w1= 5.3\n",
      "run=54\n",
      "[20, 53, 10, 10, 10, 84, 0.6293663241242475, 985, 5.3, 1, 1]\n",
      "w1= 5.4\n",
      "run=55\n",
      "[20, 54, 10, 10, 10, 84, 0.9490676787138989, 963, 5.4, 1, 1]\n",
      "w1= 5.5\n",
      "run=56\n",
      "[20, 55, 10, 10, 10, 80, 0.7474606145155864, 930, 5.5, 1, 1]\n",
      "w1= 5.6\n",
      "run=57\n",
      "[20, 56, 10, 10, 10, 86, 0.8208650392863183, 948, 5.6, 1, 1]\n",
      "w1= 5.7\n",
      "run=58\n",
      "[20, 57, 10, 10, 10, 78, 0.8256073138610412, 989, 5.7, 1, 1]\n",
      "w1= 5.8\n",
      "run=59\n",
      "[20, 58, 10, 10, 10, 80, 0.11608699784474925, 1114, 5.8, 1, 1]\n",
      "w1= 5.9\n",
      "run=60\n",
      "[20, 59, 10, 10, 10, 76, 0.6408867236026523, 981, 5.9, 1, 1]\n",
      "w1= 6.0\n",
      "run=61\n",
      "[20, 60, 10, 10, 10, 76, 0.7940895833699667, 926, 6.0, 1, 1]\n",
      "w1= 6.1\n",
      "run=62\n",
      "[20, 61, 10, 10, 10, 66, 1.0452446930948693, 918, 6.1, 1, 1]\n",
      "w1= 6.2\n",
      "run=63\n",
      "[20, 62, 10, 10, 10, 76, 0.02138054355353529, 1441, 6.2, 1, 1]\n",
      "w1= 6.3\n",
      "run=64\n",
      "[20, 63, 10, 10, 10, 90, 0.021463493177025072, 1186, 6.3, 1, 1]\n",
      "w1= 6.4\n",
      "run=65\n",
      "[20, 64, 10, 10, 10, 82, 0.9554689596626994, 1020, 6.4, 1, 1]\n",
      "w1= 6.5\n",
      "run=66\n",
      "[20, 65, 10, 10, 10, 78, 0.6396663555779032, 1311, 6.5, 1, 1]\n",
      "w1= 6.6\n",
      "run=67\n",
      "[20, 66, 10, 10, 10, 70, 0.7597735252164103, 926, 6.6, 1, 1]\n",
      "w1= 6.7\n",
      "run=68\n",
      "[20, 67, 10, 10, 10, 74, 0.7797944362293563, 1393, 6.7, 1, 1]\n",
      "w1= 6.8\n",
      "run=69\n",
      "[20, 68, 10, 10, 10, 76, 1.0398294086196016, 903, 6.8, 1, 1]\n",
      "w1= 6.9\n",
      "run=70\n",
      "[20, 69, 10, 10, 10, 76, 0.20449441149891887, 1066, 6.9, 1, 1]\n",
      "w1= 7.0\n",
      "run=71\n",
      "[20, 70, 10, 10, 10, 78, 0.768188038298696, 1070, 7.0, 1, 1]\n",
      "w1= 7.1\n",
      "run=72\n",
      "[20, 71, 10, 10, 10, 80, 0.7385347291856266, 1124, 7.1, 1, 1]\n",
      "w1= 7.2\n",
      "run=73\n",
      "[20, 72, 10, 10, 10, 68, 0.5396158154986339, 978, 7.2, 1, 1]\n",
      "w1= 7.3\n",
      "run=74\n",
      "[20, 73, 10, 10, 10, 78, 0.6340242971774264, 988, 7.3, 1, 1]\n",
      "w1= 7.4\n",
      "run=75\n",
      "[20, 74, 10, 10, 10, 78, 0.6043772902071641, 937, 7.4, 1, 1]\n",
      "w1= 7.5\n",
      "run=76\n",
      "[20, 75, 10, 10, 10, 86, 1.076465331700113, 1070, 7.5, 1, 1]\n",
      "w1= 7.6\n",
      "run=77\n",
      "[20, 76, 10, 10, 10, 86, 0.5425331252392814, 1245, 7.6, 1, 1]\n",
      "w1= 7.7\n",
      "run=78\n",
      "[20, 77, 10, 10, 10, 78, 0.7358199811704318, 1086, 7.7, 1, 1]\n",
      "w1= 7.8\n",
      "run=79\n",
      "[20, 78, 10, 10, 10, 82, 0.3719765981052397, 1325, 7.8, 1, 1]\n",
      "w1= 7.9\n",
      "run=80\n",
      "[20, 79, 10, 10, 10, 72, 0.31279700797989746, 1063, 7.9, 1, 1]\n",
      "w1= 8.0\n",
      "run=81\n",
      "[20, 80, 10, 10, 10, 80, 0.6289014527646336, 1317, 8.0, 1, 1]\n",
      "w1= 8.1\n",
      "run=82\n",
      "[20, 81, 10, 10, 10, 80, 0.277847145197211, 1489, 8.1, 1, 1]\n",
      "w1= 8.2\n",
      "run=83\n",
      "[20, 82, 10, 10, 10, 74, 0.15217517049799206, 1968, 8.2, 1, 1]\n",
      "w1= 8.3\n",
      "run=84\n",
      "[20, 83, 10, 10, 10, 68, 0.25284255931309263, 978, 8.3, 1, 1]\n",
      "w1= 8.4\n",
      "run=85\n",
      "[20, 84, 10, 10, 10, 82, 0.16518044133670667, 1363, 8.4, 1, 1]\n",
      "w1= 8.5\n",
      "run=86\n",
      "[20, 85, 10, 10, 10, 80, 0.9788768752072857, 1139, 8.5, 1, 1]\n",
      "w1= 8.6\n",
      "run=87\n",
      "[20, 86, 10, 10, 10, 78, 0.5914108672436543, 1085, 8.6, 1, 1]\n",
      "w1= 8.7\n",
      "run=88\n",
      "[20, 87, 10, 10, 10, 76, 0.5376335409928887, 1043, 8.7, 1, 1]\n",
      "w1= 8.8\n",
      "run=89\n",
      "[20, 88, 10, 10, 10, 74, 0.2646541712827233, 966, 8.8, 1, 1]\n",
      "w1= 8.9\n",
      "run=90\n",
      "[20, 89, 10, 10, 10, 74, 0.7906865914283728, 1239, 8.9, 1, 1]\n",
      "w1= 9.0\n",
      "run=91\n"
     ]
    }
   ],
   "source": [
    "# file_name=os.path.join(directory, 'var.npz')\n",
    "n_max=200\n",
    "directory = '../run_exp_1121'\n",
    "if not os.path.exists(directory):\n",
    "\tos.makedirs(directory)\n",
    "\n",
    "csv_file_name = os.path.join(directory, 'report.csv')\n",
    "if os.path.exists(csv_file_name):\n",
    "\tdf = pandas.read_csv(csv_file_name, header=None,\n",
    "\t\t\t\t\t\t names=['id', 'sensor_range', 'n1', 'n2', 'n3', 'N', 'lived_agents', 'leader_goal_distance',\n",
    "\t\t\t\t\t\t\t\t't', 'w1', 'w2', 'w3'])\n",
    "\trun, _, n01, n02, n03, n00, _, _, _, _, _, _ = list(df.iloc[-1])\n",
    "\t# cur_state=numpy.load(file_name)\n",
    "\t# n03=int(n03)-1\n",
    "\t# n00=int(n00)\n",
    "\t# n01=int(n01)\n",
    "\tn01 = int(n01) + 1\n",
    "\tdf.set_index('id', inplace=True)\n",
    "else:\n",
    "\t# killed_list=[]\n",
    "\t# n01=n_max\n",
    "\tn01 = 0\n",
    "\t# n03 = n_max\n",
    "\trun = 0\n",
    "# n00=2\n",
    "\n",
    "fig = plt.Figure()\n",
    "ax = fig.add_subplot()\n",
    "\n",
    "n = 10\n",
    "w2 = 1\n",
    "w3 = 1\n",
    "n2 = 10\n",
    "n3 = 10\n",
    "for n1 in range(n01, n_max):\n",
    "\trun = run + 1\n",
    "\tw1 = n1 / 10\n",
    "\tprint('w1=', w1)\n",
    "\tprint('run=' + str(run))\n",
    "\tep_file = os.path.join(directory, str(run) + '_' + str(n) + '_' + str(w1) + '_' + str(w2) + '_' + str(w3))\n",
    "\t#'id','sensor_range' , 'w1', 'w2', 'w3', 'N', 'lived_agents', 'leader_goal_distance', 't', 'v_mean'\n",
    "\tenv.episode(w1, w2, w3)\n",
    "\t# env.save_episode(ep_file)\n",
    "\n",
    "\trow = [SENSOR_RANGE, n1, n2, n3, n, alive_agent_count(env), leader_goal_distance(env), env.t, w1, w2, w3]\n",
    "\tdf.loc[run] = row\n",
    "\tprint(row)\n",
    "\t# env.episode(w1/10, w2/10, w3/10, killed_list)\n",
    "\t# env.save_episode(ep_file+'a')\n",
    "\n",
    "\t# numpy.savez(file_name, run=run, n1=n1, n2=n2, n3=n3, n=n)\n",
    "\n",
    "\tplot_trajectory(env, ax=ax)\n",
    "\tplt_file = ep_file + '.jpg'\n",
    "\tfig.savefig(plt_file)\n",
    "\tax.clear()\n",
    "\t# df.iloc[-1].to_csv(csv, mode='a', index=False, header=False)\n",
    "\t# run=run+1\n",
    "\twith open(csv_file_name, 'a', newline='') as f:\n",
    "\t\twriter = csv.writer(f)\n",
    "\t\twriter.writerow([run] + row)\n",
    "\n",
    "# run=run+1\n",
    "# df.to_csv()\n",
    "\n",
    "n01 = n_max"
   ],
   "metadata": {
    "collapsed": false,
    "ExecuteTime": {
     "start_time": "2023-04-08T17:51:57.597070Z",
     "end_time": "2023-04-08T21:38:39.275128Z"
    },
    "pycharm": {
     "is_executing": true
    }
   }
  },
  {
   "cell_type": "code",
   "execution_count": null,
   "outputs": [],
   "source": [
    "1# file_name=os.path.join(directory, 'var.npz')\n",
    "n_max = 50\n",
    "directory = '../run_exp_122'\n",
    "if not os.path.exists(directory):\n",
    "\tos.makedirs(directory)\n",
    "\n",
    "csv_file_name = os.path.join(directory, 'report.csv')\n",
    "if os.path.exists(csv_file_name):\n",
    "\tdf = pandas.read_csv(csv_file_name, header=None,\n",
    "\t\t\t\t\t\t names=['id', 'sensor_range', 'n1', 'n2', 'n3', 'N', 'lived_agents', 'leader_goal_distance',\n",
    "\t\t\t\t\t\t\t\t't', 'w1', 'w2', 'w3'])\n",
    "\trun, _, n01, n02, n03, n00, _, _, _, _, _, _ = list(df.iloc[-1])\n",
    "\t# cur_state=numpy.load(file_name)\n",
    "\t# n03=int(n03)-1\n",
    "\t# n00=int(n00)\n",
    "\t# n01=int(n01)\n",
    "\tn02 = int(n02) - 1\n",
    "\tdf.set_index('id', inplace=True)\n",
    "else:\n",
    "\t# killed_list=[]\n",
    "\t# n01=n_max\n",
    "\tn02 = n_max\n",
    "\t# n03 = n_max\n",
    "\trun = 0\n",
    "# n00=2\n",
    "\n",
    "fig = plt.Figure()\n",
    "ax = fig.add_subplot()\n",
    "\n",
    "n = 10\n",
    "w1 = 5\n",
    "w3 = 0.5\n",
    "n1 = 50\n",
    "n3 = 5\n",
    "for n2 in range(n02, -1, -1):\n",
    "\trun = run + 1\n",
    "\tw2 = n2 / 10\n",
    "\tprint('w3=', w3)\n",
    "\tprint('run=' + str(run))\n",
    "\tep_file = os.path.join(directory, str(run) + '_' + str(n) + '_' + str(w1) + '_' + str(w2) + '_' + str(w3))\n",
    "\t#'id','sensor_range' , 'w1', 'w2', 'w3', 'N', 'lived_agents', 'leader_goal_distance', 't', 'v_mean'\n",
    "\tenv.episode(w1, w2, w3)\n",
    "\t# env.save_episode(ep_file)\n",
    "\n",
    "\trow = [SENSOR_RANGE, n1, n2, n3, n, alive_agent_count(env), leader_goal_distance(env), env.t, w1, w2, w3]\n",
    "\tdf.loc[run] = row\n",
    "\tprint(row)\n",
    "\t# env.episode(w1/10, w2/10, w3/10, killed_list)\n",
    "\t# env.save_episode(ep_file+'a')\n",
    "\n",
    "\t# numpy.savez(file_name, run=run, n1=n1, n2=n2, n3=n3, n=n)\n",
    "\n",
    "\tplot_trajectory(env, ax=ax)\n",
    "\tplt_file = ep_file + '.jpg'\n",
    "\tfig.savefig(plt_file)\n",
    "\tax.clear()\n",
    "\t# df.iloc[-1].to_csv(csv, mode='a', index=False, header=False)\n",
    "\t# run=run+1\n",
    "\twith open(csv_file_name, 'a', newline='') as f:\n",
    "\t\twriter = csv.writer(f)\n",
    "\t\twriter.writerow([run] + row)\n",
    "\n",
    "# run=run+1\n",
    "# df.to_csv()\n",
    "\n",
    "n02 = n_max"
   ],
   "metadata": {
    "collapsed": false
   }
  },
  {
   "cell_type": "code",
   "execution_count": null,
   "outputs": [],
   "source": [],
   "metadata": {
    "collapsed": false
   }
  }
 ],
 "metadata": {
  "kernelspec": {
   "display_name": "Python 3",
   "language": "python",
   "name": "python3"
  },
  "language_info": {
   "codemirror_mode": {
    "name": "ipython",
    "version": 2
   },
   "file_extension": ".py",
   "mimetype": "text/x-python",
   "name": "python",
   "nbconvert_exporter": "python",
   "pygments_lexer": "ipython2",
   "version": "2.7.6"
  }
 },
 "nbformat": 4,
 "nbformat_minor": 0
}
