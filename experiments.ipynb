{
 "cells": [
  {
   "cell_type": "code",
   "execution_count": 17,
   "metadata": {
    "collapsed": true
   },
   "outputs": [],
   "source": [
    "import os\n",
    "import matplotlib.pyplot as plt\n",
    "import pandas\n",
    "import numpy\n",
    "import matplotlib\n",
    "import pandas as pd\n",
    "from matplotlib.axis import Axis\n",
    "from matplotlib.figure import Figure\n",
    "from matplotlib.patches import Rectangle\n",
    "\n",
    "from env import *\n",
    "from visualiser import *\n",
    "from main import *\n",
    "from constants import *\n",
    "# import xlsxwriter\n",
    "import csv\n",
    "%matplotlib inline"
   ]
  },
  {
   "cell_type": "code",
   "execution_count": 18,
   "outputs": [],
   "source": [
    "SENSOR_RANGE = 10\n",
    "\n",
    "n=range(2, 11)\n",
    "ENV_SIZE=500\n",
    "XL=250\n",
    "YL=75\n",
    "\n",
    "GOAL_X=250\n",
    "GOAL_Y=425\n",
    "MAX_T=20000"
   ],
   "metadata": {
    "collapsed": false
   }
  },
  {
   "cell_type": "code",
   "execution_count": 19,
   "outputs": [],
   "source": [
    "def calcDF(n):\n",
    "    return [(SENSOR_RANGE+ROBOT_RADIUS)*(i-(n-1)/2) for i in range(n)] * n, [(SENSOR_RANGE+ROBOT_RADIUS)*(i-(n-1)/2) for i in range(n)for _ in range(n) ]"
   ],
   "metadata": {
    "collapsed": false
   }
  },
  {
   "cell_type": "code",
   "execution_count": 20,
   "outputs": [],
   "source": [
    "def plot_trajectory(env, fig:Figure = None, ax:Axis=None):\n",
    "\n",
    "\tif fig is None and ax is None:\n",
    "\t\tfig=matplotlib.pyplot.figure(figsize=(16, 16))\n",
    "\tif ax is None:\n",
    "\t\tax=fig.add_subplot()\n",
    "\t# ax.invert_yaxis()\n",
    "\n",
    "\tposei=env.pose_history[:, env.N, :]\n",
    "\tax.plot(posei[:env.t-1,0], posei[:env.t-1, 1], linestyle='dashdot',  label='Virtual Leader', color='blue', zorder=3)\n",
    "\tline=[None]*env.N\n",
    "\tfor i in range(env.N):\n",
    "\t\t\t\t\tposei=env.pose_history[:, i, :]\n",
    "\t\t\t\t\tdeadi=env.dead_history[:, i]\n",
    "\t\t\t\t\tposei=posei[~deadi]\n",
    "\t\t\t\t\tax.plot(posei[:,0], posei[:, 1], label='Agent '+str(i), color='aqua')\n",
    "\tfor wall in env.walls:\n",
    "\t\t\t\t\tax.add_patch(Rectangle((wall.from_x, wall.from_y), wall.length_x, wall.length_y, color='black'))\n",
    "\tax.scatter(env.xL0, env.yL0, marker='*', zorder=3, color='blue', s=150)\n",
    "\tax.scatter(env.xG, env.yG, marker='*', zorder=3, color='blue', s=150)\n",
    "\tfor agent in env.agents:\n",
    "\t\t\t\t\tax.scatter(env.xL0+agent.dx, env.yL0+agent.dy, color='limegreen')\n",
    "\t\t\t\t\tax.scatter(env.pose_history[env.t-1, agent.id, 0], env.pose_history[env.t-1, agent.id, 1], color='red' if agent.is_dead else 'limegreen')\n",
    "\treturn fig\n"
   ],
   "metadata": {
    "collapsed": false
   }
  },
  {
   "cell_type": "code",
   "execution_count": 21,
   "outputs": [],
   "source": [
    "directory = '../run_exp_1'\n",
    "if not os.path.exists(directory):\n",
    "\tos.makedirs(directory)\n",
    "df=pandas.DataFrame(columns=['id','sensor_range' , 'n1', 'n2', 'n3', 'N', 'lived_agents', 'leader_goal_distance', 't', 'w1', 'w2', 'w3' ])\n",
    "df.set_index('id', inplace=True)"
   ],
   "metadata": {
    "collapsed": false
   }
  },
  {
   "cell_type": "code",
   "execution_count": 22,
   "outputs": [],
   "source": [
    "# file_name=os.path.join(directory, 'var.npz')\n",
    "n_max=50\n",
    "\n",
    "csv_file_name=os.path.join(directory, 'report.csv')\n",
    "if os.path.exists(csv_file_name):\n",
    "\tdf=pandas.read_csv(csv_file_name, header=None, names=['id','sensor_range' , 'n1', 'n2', 'n3', 'N', 'lived_agents', 'leader_goal_distance', 't', 'w1', 'w2', 'w3'])\n",
    "\trun, _, n01, n02, n03, n00, _, _, _, _, _, _=list(df.iloc[-1])\n",
    "\t# cur_state=numpy.load(file_name)\n",
    "\tn03=int(n03)-1\n",
    "\tn00=int(n00)\n",
    "\tn01=int(n01)\n",
    "\tn02=int(n02)\n",
    "\tdf.set_index('id', inplace=True)\n",
    "else:\n",
    "    # killed_list=[]\n",
    "    n01=n_max\n",
    "    n02 = n_max\n",
    "    n03 = n_max\n",
    "    run=0\n",
    "    n00=2\n",
    "\n",
    "fig=plt.Figure()\n",
    "ax=fig.add_subplot()\n"
   ],
   "metadata": {
    "collapsed": false
   }
  },
  {
   "cell_type": "code",
   "execution_count": 26,
   "outputs": [],
   "source": [
    "n=3\n",
    "DX,DY=calcDF(n)\n",
    "env = Env(\n",
    "        width=ENV_SIZE, height=ENV_SIZE, goal_x=GOAL_X, goal_y=GOAL_Y, N=n ** 2,\n",
    "        desired_X=DX, desired_Y=DY, sensor_range=SENSOR_RANGE, leader_x=XL, leader_y=YL, robot_radius=ROBOT_RADIUS,\n",
    "        sensor_detection_count=SENSOR_DETECTION_COUNT, buffer_size=MAX_T\n",
    "    )\n",
    "env.addObstacle(200, 200, 300, 300)\n",
    "episode_gui(env, 1, 1, 1)"
   ],
   "metadata": {
    "collapsed": false
   }
  },
  {
   "cell_type": "code",
   "execution_count": 24,
   "outputs": [
    {
     "name": "stdout",
     "output_type": "stream",
     "text": [
      "n= 2\n",
      "w1= 5.0\n",
      "w2= 2.4\n",
      "w3= 2.8\n",
      "run=1349.0\n",
      "[10, 50, 24, 28, 2, 0, 221.58723811973326, 53, 5.0, 2.4, 2.8]\n",
      "w3= 2.7\n",
      "run=1350.0\n",
      "[10, 50, 24, 27, 2, 1, 0.0, 157, 5.0, 2.4, 2.7]\n",
      "w3= 2.6\n",
      "run=1351.0\n",
      "[10, 50, 24, 26, 2, 1, 0.0, 162, 5.0, 2.4, 2.6]\n",
      "w3= 2.5\n",
      "run=1352.0\n",
      "[10, 50, 24, 25, 2, 1, 0.0, 168, 5.0, 2.4, 2.5]\n",
      "w3= 2.4\n",
      "run=1353.0\n",
      "[10, 50, 24, 24, 2, 1, 0.0, 173, 5.0, 2.4, 2.4]\n",
      "w3= 2.3\n",
      "run=1354.0\n",
      "[10, 50, 24, 23, 2, 2, 0.0, 181, 5.0, 2.4, 2.3]\n",
      "w3= 2.2\n",
      "run=1355.0\n",
      "[10, 50, 24, 22, 2, 1, 0.0, 187, 5.0, 2.4, 2.2]\n",
      "w3= 2.1\n",
      "run=1356.0\n",
      "[10, 50, 24, 21, 2, 1, 0.0, 197, 5.0, 2.4, 2.1]\n",
      "w3= 2.0\n",
      "run=1357.0\n",
      "[10, 50, 24, 20, 2, 2, 0.0, 206, 5.0, 2.4, 2.0]\n",
      "w3= 1.9\n",
      "run=1358.0\n",
      "[10, 50, 24, 19, 2, 2, 0.0, 218, 5.0, 2.4, 1.9]\n",
      "w3= 1.8\n",
      "run=1359.0\n",
      "[10, 50, 24, 18, 2, 2, 0.0, 229, 5.0, 2.4, 1.8]\n",
      "w3= 1.7\n",
      "run=1360.0\n",
      "[10, 50, 24, 17, 2, 1, 0.0, 240, 5.0, 2.4, 1.7]\n",
      "w3= 1.6\n",
      "run=1361.0\n",
      "[10, 50, 24, 16, 2, 2, 0.0, 253, 5.0, 2.4, 1.6]\n",
      "w3= 1.5\n",
      "run=1362.0\n"
     ]
    },
    {
     "ename": "KeyboardInterrupt",
     "evalue": "",
     "output_type": "error",
     "traceback": [
      "\u001B[1;31m---------------------------------------------------------------------------\u001B[0m",
      "\u001B[1;31mKeyboardInterrupt\u001B[0m                         Traceback (most recent call last)",
      "Cell \u001B[1;32mIn[24], line 23\u001B[0m\n\u001B[0;32m     21\u001B[0m ep_file\u001B[38;5;241m=\u001B[39mos\u001B[38;5;241m.\u001B[39mpath\u001B[38;5;241m.\u001B[39mjoin(directory, \u001B[38;5;28mstr\u001B[39m(run)\u001B[38;5;241m+\u001B[39m\u001B[38;5;124m'\u001B[39m\u001B[38;5;124m_\u001B[39m\u001B[38;5;124m'\u001B[39m\u001B[38;5;241m+\u001B[39m\u001B[38;5;28mstr\u001B[39m(n)\u001B[38;5;241m+\u001B[39m\u001B[38;5;124m'\u001B[39m\u001B[38;5;124m_\u001B[39m\u001B[38;5;124m'\u001B[39m\u001B[38;5;241m+\u001B[39m\u001B[38;5;28mstr\u001B[39m(w1)\u001B[38;5;241m+\u001B[39m\u001B[38;5;124m'\u001B[39m\u001B[38;5;124m_\u001B[39m\u001B[38;5;124m'\u001B[39m\u001B[38;5;241m+\u001B[39m\u001B[38;5;28mstr\u001B[39m(w2)\u001B[38;5;241m+\u001B[39m\u001B[38;5;124m'\u001B[39m\u001B[38;5;124m_\u001B[39m\u001B[38;5;124m'\u001B[39m\u001B[38;5;241m+\u001B[39m\u001B[38;5;28mstr\u001B[39m(w3))\n\u001B[0;32m     22\u001B[0m \u001B[38;5;66;03m#'id','sensor_range' , 'w1', 'w2', 'w3', 'N', 'lived_agents', 'leader_goal_distance', 't', 'v_mean'\u001B[39;00m\n\u001B[1;32m---> 23\u001B[0m \u001B[43menv\u001B[49m\u001B[38;5;241;43m.\u001B[39;49m\u001B[43mepisode\u001B[49m\u001B[43m(\u001B[49m\u001B[43mw1\u001B[49m\u001B[43m,\u001B[49m\u001B[43m \u001B[49m\u001B[43mw2\u001B[49m\u001B[43m,\u001B[49m\u001B[43m \u001B[49m\u001B[43mw3\u001B[49m\u001B[43m)\u001B[49m\n\u001B[0;32m     24\u001B[0m \u001B[38;5;66;03m# env.save_episode(ep_file)\u001B[39;00m\n\u001B[0;32m     26\u001B[0m row\u001B[38;5;241m=\u001B[39m[SENSOR_RANGE, n1, n2, n3, n, alive_agent_count(env), leader_goal_distance(env), env\u001B[38;5;241m.\u001B[39mt, w1, w2, w3]\n",
      "File \u001B[1;32m~\\workspace\\swarmEmul\\env.py:113\u001B[0m, in \u001B[0;36mEnv.episode\u001B[1;34m(self, w1, w2, w3, killed)\u001B[0m\n\u001B[0;32m    111\u001B[0m \u001B[38;5;28mself\u001B[39m\u001B[38;5;241m.\u001B[39mreset_leader()\n\u001B[0;32m    112\u001B[0m \u001B[38;5;28;01mwhile\u001B[39;00m \u001B[38;5;129;01mnot\u001B[39;00m \u001B[38;5;28mself\u001B[39m\u001B[38;5;241m.\u001B[39mis_done:\n\u001B[1;32m--> 113\u001B[0m     \u001B[38;5;28;43mself\u001B[39;49m\u001B[38;5;241;43m.\u001B[39;49m\u001B[43mplay_step\u001B[49m\u001B[43m(\u001B[49m\u001B[43mw1\u001B[49m\u001B[43m,\u001B[49m\u001B[43m \u001B[49m\u001B[43mw2\u001B[49m\u001B[43m,\u001B[49m\u001B[43m \u001B[49m\u001B[43mw3\u001B[49m\u001B[43m)\u001B[49m\n",
      "File \u001B[1;32m~\\workspace\\swarmEmul\\env.py:117\u001B[0m, in \u001B[0;36mEnv.play_step\u001B[1;34m(self, w1, w2, w3)\u001B[0m\n\u001B[0;32m    115\u001B[0m \u001B[38;5;28;01mdef\u001B[39;00m \u001B[38;5;21mplay_step\u001B[39m(\u001B[38;5;28mself\u001B[39m, w1, w2, w3):\n\u001B[0;32m    116\u001B[0m     \u001B[38;5;66;03m# for t in range(FPS):\u001B[39;00m\n\u001B[1;32m--> 117\u001B[0m     \u001B[38;5;28;43mself\u001B[39;49m\u001B[38;5;241;43m.\u001B[39;49m\u001B[43mobserve\u001B[49m\u001B[43m(\u001B[49m\u001B[43m)\u001B[49m\n\u001B[0;32m    118\u001B[0m     moving \u001B[38;5;241m=\u001B[39m \u001B[38;5;28;01mFalse\u001B[39;00m\n\u001B[0;32m    119\u001B[0m     \u001B[38;5;28mself\u001B[39m\u001B[38;5;241m.\u001B[39mcheck_dead()\n",
      "File \u001B[1;32m~\\workspace\\swarmEmul\\env.py:190\u001B[0m, in \u001B[0;36mEnv.observe\u001B[1;34m(self)\u001B[0m\n\u001B[0;32m    188\u001B[0m     \u001B[38;5;28;01melse\u001B[39;00m:\n\u001B[0;32m    189\u001B[0m         agent\u001B[38;5;241m.\u001B[39mobs[j] \u001B[38;5;241m=\u001B[39m \u001B[38;5;241m-\u001B[39m\u001B[38;5;241m1\u001B[39m\n\u001B[1;32m--> 190\u001B[0m \u001B[38;5;28mself\u001B[39m\u001B[38;5;241m.\u001B[39mdetection_history[\u001B[38;5;28mself\u001B[39m\u001B[38;5;241m.\u001B[39mt, agent\u001B[38;5;241m.\u001B[39mid, :] \u001B[38;5;241m=\u001B[39m agent\u001B[38;5;241m.\u001B[39mobs\n",
      "\u001B[1;31mKeyboardInterrupt\u001B[0m: "
     ]
    }
   ],
   "source": [
    "for n in range(n00, 11):\n",
    "\tprint('n=', n)\n",
    "\tDX,DY=calcDF(n)\n",
    "\tenv = Env(\n",
    "        width=ENV_SIZE, height=ENV_SIZE, goal_x=GOAL_X, goal_y=GOAL_Y, N=n ** 2,\n",
    "        desired_X=DX, desired_Y=DY, sensor_range=SENSOR_RANGE, leader_x=XL, leader_y=YL, robot_radius=ROBOT_RADIUS,\n",
    "        sensor_detection_count=SENSOR_DETECTION_COUNT, buffer_size=MAX_T\n",
    "    )\n",
    "\tenv.addObstacle(200, 200, 300, 300)\n",
    "\tfor n1 in range(n01, -1, -1):\n",
    "\t\tw1=n1/10\n",
    "\t\tprint('w1=',w1)\n",
    "\t\tfor n2 in range(n02,-1, -1):\n",
    "\t\t\tw2=n2/10\n",
    "\t\t\tprint('w2=',w2)\n",
    "\t\t\tfor n3 in range(n03, -1, -1):\n",
    "\t\t\t\trun=run+1\n",
    "\t\t\t\tw3=n3/10\n",
    "\t\t\t\tprint('w3=',w3)\n",
    "\t\t\t\tprint('run='+str(run))\n",
    "\t\t\t\tep_file=os.path.join(directory, str(run)+'_'+str(n)+'_'+str(w1)+'_'+str(w2)+'_'+str(w3))\n",
    "\t\t\t\t#'id','sensor_range' , 'w1', 'w2', 'w3', 'N', 'lived_agents', 'leader_goal_distance', 't', 'v_mean'\n",
    "\t\t\t\tenv.episode(w1, w2, w3)\n",
    "\t\t\t\t# env.save_episode(ep_file)\n",
    "\n",
    "\t\t\t\trow=[SENSOR_RANGE, n1, n2, n3, n, alive_agent_count(env), leader_goal_distance(env), env.t, w1, w2, w3]\n",
    "\t\t\t\tdf.loc[run]=row\n",
    "\t\t\t\tprint(row)\n",
    "\t\t\t\t\t\t# env.episode(w1/10, w2/10, w3/10, killed_list)\n",
    "\t\t\t\t\t\t# env.save_episode(ep_file+'a')\n",
    "\n",
    "\t\t\t\t# numpy.savez(file_name, run=run, n1=n1, n2=n2, n3=n3, n=n)\n",
    "\n",
    "\t\t\t\tplot_trajectory(env, ax=ax)\n",
    "\t\t\t\tplt_file=ep_file+'.jpg'\n",
    "\t\t\t\tfig.savefig(plt_file)\n",
    "\t\t\t\tax.clear()\n",
    "\t\t\t\t# df.iloc[-1].to_csv(csv, mode='a', index=False, header=False)\n",
    "\t\t\t\t# run=run+1\n",
    "\t\t\t\twith open(csv_file_name, 'a',newline='' ) as f:\n",
    "\t\t\t\t\twriter=csv.writer(f)\n",
    "\t\t\t\t\twriter.writerow([run]+row)\n",
    "\n",
    "\t\t\t\t# run=run+1\n",
    "\t\t\t\t# df.to_csv()\n",
    "\n",
    "\t\t\tn03=n_max\n",
    "\t\tn02=n_max\n",
    "\tn01=n_max\n"
   ],
   "metadata": {
    "collapsed": false
   }
  },
  {
   "cell_type": "code",
   "execution_count": null,
   "outputs": [],
   "source": [
    "df1=df[df.leader_goal_distance==0]\n",
    "df1=df1[df1.N==4]\n",
    "df1[df1.N**2==df1.lived_agents]"
   ],
   "metadata": {
    "collapsed": false
   }
  },
  {
   "cell_type": "code",
   "execution_count": null,
   "outputs": [],
   "source": [
    "df1.count()"
   ],
   "metadata": {
    "collapsed": false
   }
  },
  {
   "cell_type": "code",
   "execution_count": null,
   "outputs": [],
   "source": [
    "df=pandas.read_csv(csv_file_name, header=None, names=['id','sensor_range' , 'w1', 'w2', 'w3', 'N', 'lived_agents', 'leader_goal_distance', 't' ])\n",
    "id, SENSOR_RANGE, n01, n02, n03, n00, _, _, _, _=list(df.iloc[-1])\n",
    "# list(df.iloc[-1])\n",
    "# df.iloc[-1]\n",
    "id"
   ],
   "metadata": {
    "collapsed": false
   }
  },
  {
   "cell_type": "code",
   "execution_count": null,
   "outputs": [],
   "source": [],
   "metadata": {
    "collapsed": false
   }
  }
 ],
 "metadata": {
  "kernelspec": {
   "display_name": "Python 3",
   "language": "python",
   "name": "python3"
  },
  "language_info": {
   "codemirror_mode": {
    "name": "ipython",
    "version": 2
   },
   "file_extension": ".py",
   "mimetype": "text/x-python",
   "name": "python",
   "nbconvert_exporter": "python",
   "pygments_lexer": "ipython2",
   "version": "2.7.6"
  }
 },
 "nbformat": 4,
 "nbformat_minor": 0
}
