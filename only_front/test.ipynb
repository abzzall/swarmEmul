{
 "cells": [
  {
   "cell_type": "code",
   "execution_count": null,
   "outputs": [],
   "source": [
    "import csv\n",
    "import math\n",
    "import os\n",
    "from math import pi\n",
    "\n",
    "import numpy\n",
    "import pandas\n",
    "\n",
    "from constants import *\n",
    "\n",
    "\n",
    "\n",
    "# if __name__ == '__main__':\n",
    "#\n",
    "#\n",
    "#     # episode_gui_(5, 1, 1)\n",
    "#     N = 2\n",
    "#     sensor_range = 20\n",
    "#     ROBOT_RADIUS=1\n",
    "#     Dx, Dy = desiredXYSquarePattern(N, sensor_range + ROBOT_RADIUS)\n",
    "#     env = Env(500, 500, 250,450, N * N, Dx, Dy, SENSOR_RANGE, 250, 50, ROBOT_RADIUS, SENSOR_DETECTION_COUNT, MAX_T)\n",
    "#     env.addObstacle(200, 200, 300, 300)\n",
    "#     # env.addObstacle(60, 80, 40, 120)\n",
    "#\n",
    "#     # env.addObstacle(350, 200, 400, 250)\n",
    "#     # env.addObstacle(100, 200, 150, 250)\n",
    "#     # episode_gui(env,15, 1, 1, draw_way=True)\n",
    "#     W=range(20)\n",
    "#     run=0\n",
    "#     dir_name=os.path.join('..', 'run')\n",
    "#     for w1 in W:\n",
    "#         print('w1='+str(w1))\n",
    "#         for w2 in W:\n",
    "#             print('w2='+str(w2))\n",
    "#             for w3 in W:\n",
    "#                 print('w3=' + str(w3))\n",
    "#                 env.episode(w1, w2, w3)\n",
    "#                 env.save_episode(os.path.join(dir_name, str(run)+'_'+str(w1)+'_'+str(w2)))\n",
    "#                 run=run+1\n",
    "\n",
    "\n",
    "# env.save_episode('test')\n",
    "# episode_replay_from_file('test.npz', WINDOW_SIZE, WINDOW_SIZE)\n",
    "from geometry import equals, getDistance\n",
    "from only_front.env_front_lidar import Env\n",
    "from only_front.visualiser import episode_gui\n",
    "\n",
    "def leader_goal_distance(env: Env):\n",
    "    return getDistance(env.xL, env.yL, env.xG, env.yG)\n",
    "def desiredXYSquarePattern(N: int, d=SENSOR_RANGE):\n",
    "    X = numpy.array([(i - (N - 1) * 0.5) * d for i in range(N)] * N)\n",
    "    Y = numpy.array([(i - (N - 1) * 0.5) * d for i in range(N) for j in range(N)])\n",
    "    return X, Y\n",
    "if __name__ == '__main__':\n",
    "    # W= numpy.array([1, 2, 3, 5, 10, 15, 30, 45, 60])\n",
    "    # V=numpy.array(range(1, 51))/10\n",
    "    # directory = '..\\\\..\\\\run_complex'\n",
    "    # file_name = os.path.join(directory, 'var.npz')\n",
    "    # report_file_name=os.path.join(directory, 'report.xlsx')\n",
    "    # if os.path.exists(file_name):\n",
    "    #     cur_state = numpy.load(file_name)\n",
    "    #\n",
    "    #     w0i = int(cur_state['w'])\n",
    "    #     v0i = int(cur_state['v'])\n",
    "    #     run = int(cur_state['run'])\n",
    "    # else:\n",
    "    #     w0i=0\n",
    "    #     v0i=0\n",
    "    #     run = 0\n",
    "    N = 3\n",
    "    sensor_range = 20\n",
    "    ROBOT_RADIUS = 0.1\n",
    "    Dx, Dy = desiredXYSquarePattern(N, 5)\n",
    "    #############################################\n",
    "    env = Env(250, 250, 210, 160, N * N, Dx, Dy, sensor_range, 20, 20, ROBOT_RADIUS, SENSOR_DETECTION_COUNT, 5000000)\n",
    "        # env.addObstacle(50, 0, 60, 200)\n",
    "    env.addObstacle(50, 0, 60, 80)\n",
    "    env.addObstacle(50, 100, 60, 220)\n",
    "\n",
    "    env.addObstacle(100, 40, 220, 50)\n",
    "\n",
    "    env.addObstacle(100, 50, 110, 180)\n",
    "    env.addObstacle(100, 200, 110, 250)\n",
    "\n",
    "    env.addObstacle(170, 100, 180, 220)\n",
    "\n",
    "    env.addObstacle(200, 100, 250, 110)\n",
    "\n",
    "    ###########################\n",
    "\n",
    "    # env = Env(250, 250, 125, 220, N * N, Dx, Dy, sensor_range, 125, 20, ROBOT_RADIUS, SENSOR_DETECTION_COUNT, 5000000)\n",
    "    # env.addObstacle(100, 70, 150, 100)\n",
    "    #\n",
    "    # env.addObstacle(50, 130, 100, 170)\n",
    "    # env.addObstacle(150, 130, 200, 170)\n",
    "    ############################################\n",
    "\n",
    "\n",
    "    v=0.2\n",
    "    w=1\n",
    "    episode_gui(env, v, w*pi/180, draw_way=True, window_width=1000, window_height=1000, fps=150)\n",
    "    # # env.addObstacle(50, 80, 150, 120)\n",
    "    # row = ['row','v', 'w', 't', 'alive_agent_count']\n",
    "    # with open(report_file_name, 'a') as report_file:\n",
    "    #     writer = csv.writer(report_file)\n",
    "    #     writer.writerow(row)\n",
    "    #\n",
    "    # for wi in range(w0i, W.size):\n",
    "    #     w=W[wi]\n",
    "    #     print(w)\n",
    "    #     for vi in range(v0i,  V.size):\n",
    "    #         v=V[vi]\n",
    "    #         env.reset()\n",
    "    #         env.agents[0].left=env.agents[3]\n",
    "    #         env.agents[1].left=env.agents[0]\n",
    "    #         env.agents[2].left=env.agents[1]\n",
    "    #         env.agents[5].left=env.agents[2]\n",
    "    #         env.agents[8].left=env.agents[5]\n",
    "    #         env.agents[7].left=env.agents[8]\n",
    "    #         env.agents[6].left=env.agents[7]\n",
    "    #         env.agents[3].left=env.agents[6]\n",
    "    #\n",
    "    #\n",
    "    #         env.agents[3].right= env.agents[0]\n",
    "    #         env.agents[0].right= env.agents[1]\n",
    "    #         env.agents[1].right= env.agents[2]\n",
    "    #         env.agents[2].right= env.agents[5]\n",
    "    #         env.agents[5].right= env.agents[8]\n",
    "    #         env.agents[8].right= env.agents[7]\n",
    "    #         env.agents[7].right= env.agents[6]\n",
    "    #         env.agents[6].right= env.agents[3]\n",
    "    #\n",
    "    #         for i in range(1, N-1):\n",
    "    #             for j in range(1, N-1):\n",
    "    #                 env.agents[i*N+j].sensored=False\n",
    "    #         while(not env.is_done):\n",
    "    #             env.play_step(v,w*pi/180)\n",
    "    #         env.save_episode(os.path.join(directory, 'run'+str(run)))\n",
    "    #         alive_agent_count = N * N - numpy.sum(env.dead_history[env.t - 1, :])\n",
    "    #         t = env.t if (equals(leader_goal_distance(env), 0.0)) else None\n",
    "    #         # print(t)\n",
    "    #         # print(alive_agent_count)\n",
    "    #         row=[run, v, w, t, alive_agent_count]\n",
    "    #         print(row)\n",
    "    #         with open(report_file_name, 'a') as report_file:\n",
    "    #             writer=csv.writer(report_file)\n",
    "    #             writer.writerow(row)\n",
    "    #         numpy.savez(file_name, w=wi, run=run, v=vi)\n",
    "    #         run+=1\n",
    "    print(env.t)\n",
    "\n",
    "\n"
   ],
   "metadata": {
    "collapsed": false,
    "pycharm": {
     "name": "#%%\n",
     "is_executing": true
    }
   }
  },
  {
   "cell_type": "code",
   "execution_count": null,
   "outputs": [],
   "source": [
    "from matplotlib import pyplot as plt\n",
    "import numpy as np\n",
    "fig = plt.figure()\n",
    "ax = plt.axes()\n",
    "#\n",
    "# x = np.linspace(0, 10, 1000)\n",
    "# ax.plot(x, np.sin(x));\n",
    "i=5\n",
    "x=env.pose_history[1836:1839, i, 0]*1000\n",
    "y=env.pose_history[1836:1839, i, 1]*1000\n",
    "plt.plot(x, y, 'bo--')\n",
    "# print(env.v_history[1820:1845, i, :])\n",
    "# print(y)\n",
    "# print(x)\n",
    "# for i in range(env.N+1):\n",
    "#     x=env.pose_history[1832:1837, i, 0]\n",
    "#     y=env.pose_history[1832:1837, i, 1]\n",
    "#     plt.plot(x, y)\n",
    "#     print(i)\n",
    "#     print(x)\n",
    "#     print(y)\n",
    "print(x)\n",
    "print(y)\n",
    "r=np.zeros((5, 7))\n",
    "for j in range(5):\n",
    "    t=1835+j\n",
    "    n=5\n",
    "    xold=env.pose_history[t, 5, 0]-env.pose_history[t-1, 5, 0]\n",
    "    yold=env.pose_history[t, 5, 1]-env.pose_history[t-1, 5, 1]\n",
    "    xnew=env.pose_history[t+1, 5, 0]-env.pose_history[t, 5, 0]\n",
    "    ynew=env.pose_history[t+1, 5, 1]-env.pose_history[t, 5, 1]\n",
    "\n",
    "    print([env.v_history[t, 5, 0], env.v_history[t, 5, 1], env.v_history[t, 5, 2], env.v_history[t, 5, 3], env.pose_history[t, 5, 0], env.pose_history[t, 5, 1], np.arccos((xold*xnew+yold*ynew)/np.sqrt((xold*xold+yold*yold)*(xnew*xnew+ynew*ynew)))])\n",
    "print(r)"
   ],
   "metadata": {
    "collapsed": false,
    "pycharm": {
     "name": "#%%\n",
     "is_executing": true
    }
   }
  },
  {
   "cell_type": "code",
   "execution_count": null,
   "outputs": [],
   "source": [],
   "metadata": {
    "collapsed": false,
    "pycharm": {
     "name": "#%%\n"
    }
   }
  },
  {
   "cell_type": "code",
   "execution_count": 19,
   "outputs": [
    {
     "name": "stdout",
     "output_type": "stream",
     "text": [
      "[1, 1, 1, 2]\n"
     ]
    }
   ],
   "source": [
    "lst = [1, 2]\n",
    "for v in range(2):\n",
    "    lst.insert(-1, lst[v])\n",
    "print(lst)"
   ],
   "metadata": {
    "collapsed": false,
    "pycharm": {
     "name": "#%%\n"
    }
   }
  },
  {
   "cell_type": "code",
   "execution_count": 2,
   "outputs": [
    {
     "name": "stdout",
     "output_type": "stream",
     "text": [
      "2\n"
     ]
    }
   ],
   "source": [
    "a=1\n",
    "b=0\n",
    "c=a&b\n",
    "d=a|b\n",
    "e=a^b\n",
    "print(c+d+e)"
   ],
   "metadata": {
    "collapsed": false,
    "pycharm": {
     "name": "#%%\n"
    }
   }
  },
  {
   "cell_type": "code",
   "execution_count": 3,
   "outputs": [
    {
     "name": "stdout",
     "output_type": "stream",
     "text": [
      "#\n",
      "#\n",
      "#\n",
      "#\n"
     ]
    }
   ],
   "source": [
    "var=1\n",
    "while var<10:\n",
    "    print(\"#\")\n",
    "    var=var<<1"
   ],
   "metadata": {
    "collapsed": false,
    "pycharm": {
     "name": "#%%\n"
    }
   }
  },
  {
   "cell_type": "code",
   "execution_count": 4,
   "outputs": [
    {
     "name": "stdout",
     "output_type": "stream",
     "text": [
      "6\n"
     ]
    }
   ],
   "source": [
    "t=[[3-i for i in range(3)] for j in range(3)]\n",
    "s=0\n",
    "for i in range(3):\n",
    "    s+=t[i][i]\n",
    "print(s)"
   ],
   "metadata": {
    "collapsed": false,
    "pycharm": {
     "name": "#%%\n"
    }
   }
  },
  {
   "cell_type": "code",
   "execution_count": 1,
   "outputs": [],
   "source": [
    "z=10\n",
    "y=0\n",
    "x=y<z and z>y or y>z and z<y"
   ],
   "metadata": {
    "collapsed": false,
    "pycharm": {
     "name": "#%%\n"
    }
   }
  },
  {
   "cell_type": "code",
   "execution_count": 2,
   "outputs": [
    {
     "data": {
      "text/plain": "True"
     },
     "execution_count": 2,
     "metadata": {},
     "output_type": "execute_result"
    }
   ],
   "source": [
    "x"
   ],
   "metadata": {
    "collapsed": false,
    "pycharm": {
     "name": "#%%\n"
    }
   }
  },
  {
   "cell_type": "code",
   "execution_count": 3,
   "outputs": [
    {
     "name": "stdout",
     "output_type": "stream",
     "text": [
      "*\n"
     ]
    }
   ],
   "source": [
    "i=0\n",
    "while i<= 5:\n",
    "    i += 1\n",
    "    if i%2 == 0:\n",
    "        break\n",
    "    print(\"*\")"
   ],
   "metadata": {
    "collapsed": false,
    "pycharm": {
     "name": "#%%\n"
    }
   }
  },
  {
   "cell_type": "code",
   "execution_count": 4,
   "outputs": [
    {
     "name": "stdout",
     "output_type": "stream",
     "text": [
      "#\n",
      "#\n",
      "#\n"
     ]
    }
   ],
   "source": [
    "var=0\n",
    "while var<6:\n",
    "    var+=1\n",
    "    if var%2 == 0:\n",
    "        continue\n",
    "    print(\"#\")"
   ],
   "metadata": {
    "collapsed": false,
    "pycharm": {
     "name": "#%%\n"
    }
   }
  },
  {
   "cell_type": "code",
   "execution_count": 5,
   "outputs": [
    {
     "data": {
      "text/plain": "[-1, 0, 1]"
     },
     "execution_count": 5,
     "metadata": {},
     "output_type": "execute_result"
    }
   ],
   "source": [
    "my_list=[i for i in range(-1, 2)]\n",
    "my_list"
   ],
   "metadata": {
    "collapsed": false,
    "pycharm": {
     "name": "#%%\n"
    }
   }
  },
  {
   "cell_type": "code",
   "execution_count": 6,
   "outputs": [
    {
     "name": "stdout",
     "output_type": "stream",
     "text": [
      "1\n"
     ]
    }
   ],
   "source": [
    "lst=[3, 1, -2]\n",
    "print(lst[lst[-1]])"
   ],
   "metadata": {
    "collapsed": false,
    "pycharm": {
     "name": "#%%\n"
    }
   }
  },
  {
   "cell_type": "code",
   "execution_count": 7,
   "outputs": [
    {
     "name": "stdout",
     "output_type": "stream",
     "text": [
      "#\n",
      "#\n"
     ]
    }
   ],
   "source": [
    "for i in range(1):\n",
    "    print(\"#\")\n",
    "else:\n",
    "    print(\"#\")"
   ],
   "metadata": {
    "collapsed": false,
    "pycharm": {
     "name": "#%%\n"
    }
   }
  },
  {
   "cell_type": "code",
   "execution_count": 8,
   "outputs": [
    {
     "name": "stdout",
     "output_type": "stream",
     "text": [
      "2\n"
     ]
    }
   ],
   "source": [
    "tup=(1, 2, 4, 8)\n",
    "tup=tup[1:-1]\n",
    "tup=tup[0]\n",
    "print(tup)"
   ],
   "metadata": {
    "collapsed": false,
    "pycharm": {
     "name": "#%%\n"
    }
   }
  },
  {
   "cell_type": "code",
   "execution_count": 9,
   "outputs": [
    {
     "name": "stdout",
     "output_type": "stream",
     "text": [
      "two\n"
     ]
    }
   ],
   "source": [
    "dct={'one':'two', 'three':'one', 'two':'three'}\n",
    "v=dct['one']\n",
    "for k in range(len(dct)):\n",
    "    v=dct[v]\n",
    "print(v)"
   ],
   "metadata": {
    "collapsed": false,
    "pycharm": {
     "name": "#%%\n"
    }
   }
  },
  {
   "cell_type": "code",
   "execution_count": 10,
   "outputs": [
    {
     "name": "stdout",
     "output_type": "stream",
     "text": [
      "#\n",
      "#\n",
      "#\n"
     ]
    }
   ],
   "source": [
    "lst=[[x for x in range(3)] for y in range(3)]\n",
    "for r in range(3):\n",
    "    for c in range(3):\n",
    "        if lst[r][c]%2 != 0:\n",
    "            print('#')"
   ],
   "metadata": {
    "collapsed": false,
    "pycharm": {
     "name": "#%%\n"
    }
   }
  },
  {
   "cell_type": "code",
   "execution_count": 11,
   "outputs": [
    {
     "ename": "SyntaxError",
     "evalue": "invalid syntax (Temp/ipykernel_14968/73744898.py, line 1)",
     "output_type": "error",
     "traceback": [
      "\u001B[1;36m  File \u001B[1;32m\"C:\\Users\\qyzyr\\AppData\\Local\\Temp/ipykernel_14968/73744898.py\"\u001B[1;36m, line \u001B[1;32m1\u001B[0m\n\u001B[1;33m    print(Hello, World!)\u001B[0m\n\u001B[1;37m                      ^\u001B[0m\n\u001B[1;31mSyntaxError\u001B[0m\u001B[1;31m:\u001B[0m invalid syntax\n"
     ]
    }
   ],
   "source": [
    "print(Hello, World!)"
   ],
   "metadata": {
    "collapsed": false,
    "pycharm": {
     "name": "#%%\n"
    }
   }
  },
  {
   "cell_type": "code",
   "execution_count": 12,
   "outputs": [
    {
     "ename": "ValueError",
     "evalue": "tuple.index(x): x not in tuple",
     "output_type": "error",
     "traceback": [
      "\u001B[1;31m---------------------------------------------------------------------------\u001B[0m",
      "\u001B[1;31mValueError\u001B[0m                                Traceback (most recent call last)",
      "\u001B[1;32m~\\AppData\\Local\\Temp/ipykernel_14968/413978008.py\u001B[0m in \u001B[0;36m<module>\u001B[1;34m\u001B[0m\n\u001B[0;32m      1\u001B[0m \u001B[0mfoo\u001B[0m\u001B[1;33m=\u001B[0m\u001B[1;33m(\u001B[0m\u001B[1;36m1\u001B[0m\u001B[1;33m,\u001B[0m\u001B[1;36m2\u001B[0m\u001B[1;33m,\u001B[0m\u001B[1;36m3\u001B[0m\u001B[1;33m)\u001B[0m\u001B[1;33m\u001B[0m\u001B[1;33m\u001B[0m\u001B[0m\n\u001B[1;32m----> 2\u001B[1;33m \u001B[0mfoo\u001B[0m\u001B[1;33m.\u001B[0m\u001B[0mindex\u001B[0m\u001B[1;33m(\u001B[0m\u001B[1;36m0\u001B[0m\u001B[1;33m)\u001B[0m\u001B[1;33m\u001B[0m\u001B[1;33m\u001B[0m\u001B[0m\n\u001B[0m",
      "\u001B[1;31mValueError\u001B[0m: tuple.index(x): x not in tuple"
     ]
    }
   ],
   "source": [
    "foo=(1,2,3)\n",
    "foo.index(0)"
   ],
   "metadata": {
    "collapsed": false,
    "pycharm": {
     "name": "#%%\n"
    }
   }
  },
  {
   "cell_type": "code",
   "execution_count": 13,
   "outputs": [
    {
     "data": {
      "text/plain": "[]"
     },
     "execution_count": 13,
     "metadata": {},
     "output_type": "execute_result"
    }
   ],
   "source": [
    "[i for i in range(-1, -2)]"
   ],
   "metadata": {
    "collapsed": false,
    "pycharm": {
     "name": "#%%\n"
    }
   }
  },
  {
   "cell_type": "code",
   "execution_count": 14,
   "outputs": [],
   "source": [
    "z=0\n",
    "y=10\n",
    "x=y<z and z>y or y>z and z<y"
   ],
   "metadata": {
    "collapsed": false,
    "pycharm": {
     "name": "#%%\n"
    }
   }
  },
  {
   "cell_type": "code",
   "execution_count": 15,
   "outputs": [
    {
     "data": {
      "text/plain": "True"
     },
     "execution_count": 15,
     "metadata": {},
     "output_type": "execute_result"
    }
   ],
   "source": [
    "x"
   ],
   "metadata": {
    "collapsed": false,
    "pycharm": {
     "name": "#%%\n"
    }
   }
  },
  {
   "cell_type": "code",
   "execution_count": 16,
   "outputs": [],
   "source": [
    "nums=[1, 2, 3]\n",
    "vals=nums\n",
    "del vals[:]"
   ],
   "metadata": {
    "collapsed": false,
    "pycharm": {
     "name": "#%%\n"
    }
   }
  },
  {
   "cell_type": "code",
   "execution_count": 18,
   "outputs": [
    {
     "data": {
      "text/plain": "[]"
     },
     "execution_count": 18,
     "metadata": {},
     "output_type": "execute_result"
    }
   ],
   "source": [
    "\n",
    "vals"
   ],
   "metadata": {
    "collapsed": false,
    "pycharm": {
     "name": "#%%\n"
    }
   }
  },
  {
   "cell_type": "code",
   "execution_count": 20,
   "outputs": [
    {
     "name": "stdout",
     "output_type": "stream",
     "text": [
      "[0, 1, 4, 9]\n"
     ]
    }
   ],
   "source": [
    "my_list=[x*x for x in range(5)]\n",
    "def fun(lst):\n",
    "    del lst[lst[2]]\n",
    "    return lst\n",
    "print(fun(my_list))"
   ],
   "metadata": {
    "collapsed": false,
    "pycharm": {
     "name": "#%%\n"
    }
   }
  },
  {
   "cell_type": "code",
   "execution_count": null,
   "outputs": [],
   "source": [],
   "metadata": {
    "collapsed": false,
    "pycharm": {
     "name": "#%%\n"
    }
   }
  }
 ],
 "metadata": {
  "kernelspec": {
   "display_name": "Python 3",
   "language": "python",
   "name": "python3"
  },
  "language_info": {
   "codemirror_mode": {
    "name": "ipython",
    "version": 2
   },
   "file_extension": ".py",
   "mimetype": "text/x-python",
   "name": "python",
   "nbconvert_exporter": "python",
   "pygments_lexer": "ipython2",
   "version": "2.7.6"
  }
 },
 "nbformat": 4,
 "nbformat_minor": 0
}