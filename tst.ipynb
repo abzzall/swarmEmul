{
 "cells": [
  {
   "cell_type": "code",
   "execution_count": null,
   "metadata": {
    "collapsed": true
   },
   "outputs": [],
   "source": []
  },
  {
   "cell_type": "code",
   "execution_count": 1,
   "outputs": [
    {
     "name": "stdout",
     "output_type": "stream",
     "text": [
      "pygame 2.1.3.dev8 (SDL 2.0.22, Python 3.11.0)\n",
      "Hello from the pygame community. https://www.pygame.org/contribute.html\n"
     ]
    }
   ],
   "source": [
    "import os\n",
    "import matplotlib.pyplot as plt\n",
    "import pandas\n",
    "import numpy\n",
    "import matplotlib\n",
    "import pandas as pd\n",
    "from matplotlib.axis import Axis\n",
    "from matplotlib.figure import Figure\n",
    "from matplotlib.patches import Rectangle\n",
    "\n",
    "from env import *\n",
    "from visualiser import *\n",
    "from main import *\n",
    "from constants import *\n",
    "# import xlsxwriter\n",
    "import csv\n",
    "%matplotlib inline"
   ],
   "metadata": {
    "collapsed": false
   }
  },
  {
   "cell_type": "code",
   "execution_count": 2,
   "outputs": [],
   "source": [
    "SENSOR_RANGE = 10\n",
    "\n",
    "n=range(2, 11)\n",
    "ENV_SIZE=500\n",
    "XL=250\n",
    "YL=75\n",
    "\n",
    "GOAL_X=250\n",
    "GOAL_Y=425\n",
    "MAX_T=50000"
   ],
   "metadata": {
    "collapsed": false
   }
  },
  {
   "cell_type": "code",
   "execution_count": 3,
   "outputs": [],
   "source": [
    "def calcDF(n):\n",
    "    return [(SENSOR_RANGE+ROBOT_RADIUS)*(i-(n-1)/2) for i in range(n)] * n, [(SENSOR_RANGE+ROBOT_RADIUS)*(i-(n-1)/2) for i in range(n)for _ in range(n) ]"
   ],
   "metadata": {
    "collapsed": false
   }
  },
  {
   "cell_type": "code",
   "execution_count": 4,
   "outputs": [],
   "source": [
    "def plot_trajectory(env, fig:Figure = None, ax:Axis=None):\n",
    "\n",
    "\tif fig is None and ax is None:\n",
    "\t\tfig=matplotlib.pyplot.figure(figsize=(16, 16))\n",
    "\tif ax is None:\n",
    "\t\tax=fig.add_subplot()\n",
    "\t# ax.invert_yaxis()\n",
    "\n",
    "\tposei=env.pose_history[:, env.N, :]\n",
    "\tax.plot(posei[:env.t-1,0], posei[:env.t-1, 1], linestyle='dashdot',  label='Virtual Leader', color='blue', zorder=3)\n",
    "\tline=[None]*env.N\n",
    "\tfor i in range(env.N):\n",
    "\t\t\t\t\tposei=env.pose_history[:, i, :]\n",
    "\t\t\t\t\tdeadi=env.dead_history[:, i]\n",
    "\t\t\t\t\tposei=posei[~deadi]\n",
    "\t\t\t\t\tax.plot(posei[:,0], posei[:, 1], label='Agent '+str(i), color='aqua')\n",
    "\tfor wall in env.walls:\n",
    "\t\t\t\t\tax.add_patch(Rectangle((wall.from_x, wall.from_y), wall.length_x, wall.length_y, color='black'))\n",
    "\tax.scatter(env.xL0, env.yL0, marker='*', zorder=3, color='blue', s=150)\n",
    "\tax.scatter(env.xG, env.yG, marker='*', zorder=3, color='blue', s=150)\n",
    "\tfor agent in env.agents:\n",
    "\t\t\t\t\tax.scatter(env.xL0+agent.dx, env.yL0+agent.dy, color='limegreen')\n",
    "\t\t\t\t\tax.scatter(env.pose_history[env.t-1, agent.id, 0], env.pose_history[env.t-1, agent.id, 1], color='red' if agent.is_dead else 'limegreen')\n",
    "\treturn fig\n"
   ],
   "metadata": {
    "collapsed": false
   }
  },
  {
   "cell_type": "code",
   "execution_count": 5,
   "outputs": [],
   "source": [
    "directory = '../run_exp_10'\n",
    "if not os.path.exists(directory):\n",
    "\tos.makedirs(directory)\n",
    "df=pandas.DataFrame(columns=['id','sensor_range' , 'n1', 'n2', 'n3', 'N', 'lived_agents', 'leader_goal_distance', 't', 'w1', 'w2', 'w3' ])\n",
    "df.set_index('id', inplace=True)"
   ],
   "metadata": {
    "collapsed": false
   }
  },
  {
   "cell_type": "code",
   "execution_count": 6,
   "outputs": [],
   "source": [
    "n=10"
   ],
   "metadata": {
    "collapsed": false
   }
  },
  {
   "cell_type": "code",
   "execution_count": 7,
   "outputs": [],
   "source": [
    "DX,DY=calcDF(n)\n",
    "env = Env(\n",
    "        width=ENV_SIZE, height=ENV_SIZE, goal_x=GOAL_X, goal_y=GOAL_Y, N=n ** 2,\n",
    "        desired_X=DX, desired_Y=DY, sensor_range=SENSOR_RANGE, leader_x=XL, leader_y=YL, robot_radius=ROBOT_RADIUS,\n",
    "        sensor_detection_count=SENSOR_DETECTION_COUNT, buffer_size=MAX_T\n",
    "    )\n",
    "env.addObstacle(200, 200, 300, 300)\n"
   ],
   "metadata": {
    "collapsed": false
   }
  },
  {
   "cell_type": "code",
   "execution_count": 8,
   "outputs": [],
   "source": [
    "episode_gui(env, 5, 1, 1)"
   ],
   "metadata": {
    "collapsed": false
   }
  }
 ],
 "metadata": {
  "kernelspec": {
   "display_name": "Python 3",
   "language": "python",
   "name": "python3"
  },
  "language_info": {
   "codemirror_mode": {
    "name": "ipython",
    "version": 2
   },
   "file_extension": ".py",
   "mimetype": "text/x-python",
   "name": "python",
   "nbconvert_exporter": "python",
   "pygments_lexer": "ipython2",
   "version": "2.7.6"
  }
 },
 "nbformat": 4,
 "nbformat_minor": 0
}
