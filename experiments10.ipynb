{
 "cells": [
  {
   "cell_type": "code",
   "execution_count": 29,
   "metadata": {
    "collapsed": true
   },
   "outputs": [],
   "source": [
    "import os\n",
    "import matplotlib.pyplot as plt\n",
    "import pandas\n",
    "import numpy\n",
    "import matplotlib\n",
    "import pandas as pd\n",
    "from matplotlib.axis import Axis\n",
    "from matplotlib.figure import Figure\n",
    "from matplotlib.patches import Rectangle\n",
    "\n",
    "from env import *\n",
    "from visualiser import *\n",
    "from main import *\n",
    "from constants import *\n",
    "# import xlsxwriter\n",
    "import csv\n",
    "%matplotlib inline"
   ]
  },
  {
   "cell_type": "code",
   "execution_count": 30,
   "outputs": [],
   "source": [
    "SENSOR_RANGE = 10\n",
    "\n",
    "n=range(2, 11)\n",
    "ENV_SIZE=1000\n",
    "XL=500\n",
    "YL=100\n",
    "\n",
    "GOAL_X=500\n",
    "GOAL_Y=900\n",
    "MAX_T=50000"
   ],
   "metadata": {
    "collapsed": false
   }
  },
  {
   "cell_type": "code",
   "execution_count": 31,
   "outputs": [],
   "source": [
    "def calcDF(n):\n",
    "    return [(SENSOR_RANGE+ROBOT_RADIUS)*(i-(n-1)/2) for i in range(n)] * n, [(SENSOR_RANGE+ROBOT_RADIUS)*(i-(n-1)/2) for i in range(n)for _ in range(n) ]"
   ],
   "metadata": {
    "collapsed": false
   }
  },
  {
   "cell_type": "code",
   "execution_count": 32,
   "outputs": [],
   "source": [
    "def plot_trajectory(env, fig:Figure = None, ax:Axis=None):\n",
    "\n",
    "\tif fig is None and ax is None:\n",
    "\t\tfig=matplotlib.pyplot.figure(figsize=(16, 16))\n",
    "\tif ax is None:\n",
    "\t\tax=fig.add_subplot()\n",
    "\t# ax.invert_yaxis()\n",
    "\n",
    "\tposei=env.pose_history[:, env.N, :]\n",
    "\tfor i in range(env.N):\n",
    "\t\t\t\t\tposei=env.pose_history[:, i, :]\n",
    "\t\t\t\t\tdeadi=env.dead_history[:, i]\n",
    "\t\t\t\t\tposei=posei[~deadi]\n",
    "\t\t\t\t\tax.plot(posei[:,0], posei[:, 1], label='Agent '+str(i), color='aqua')\n",
    "\tax.plot(posei[:env.t-1,0], posei[:env.t-1, 1], linestyle='dashdot',  label='Virtual Leader', color='blue', zorder=3)\n",
    "\tline=[None]*env.N\n",
    "\n",
    "\tfor wall in env.walls:\n",
    "\t\t\t\t\tax.add_patch(Rectangle((wall.from_x, wall.from_y), wall.length_x, wall.length_y, color='black'))\n",
    "\tax.scatter(env.xL0, env.yL0, marker='*', zorder=3, color='blue', s=150)\n",
    "\tax.scatter(env.xG, env.yG, marker='*', zorder=3, color='blue', s=150)\n",
    "\tfor agent in env.agents:\n",
    "\t\t\t\t\tax.scatter(env.xL0+agent.dx, env.yL0+agent.dy, color='limegreen')\n",
    "\t\t\t\t\tax.scatter(env.pose_history[env.t-1, agent.id, 0], env.pose_history[env.t-1, agent.id, 1], color='red' if agent.is_dead else 'limegreen')\n",
    "\treturn fig\n"
   ],
   "metadata": {
    "collapsed": false
   }
  },
  {
   "cell_type": "code",
   "execution_count": 33,
   "outputs": [],
   "source": [
    "directory = '../run_exp_10'\n",
    "if not os.path.exists(directory):\n",
    "\tos.makedirs(directory)\n",
    "df=pandas.DataFrame(columns=['id','sensor_range' , 'n1', 'n2', 'n3', 'N', 'lived_agents', 'leader_goal_distance', 't', 'w1', 'w2', 'w3' ])\n",
    "df.set_index('id', inplace=True)"
   ],
   "metadata": {
    "collapsed": false
   }
  },
  {
   "cell_type": "code",
   "execution_count": 34,
   "outputs": [],
   "source": [
    "n=10"
   ],
   "metadata": {
    "collapsed": false
   }
  },
  {
   "cell_type": "code",
   "execution_count": 35,
   "outputs": [],
   "source": [
    "DX,DY=calcDF(n)\n",
    "env = Env(\n",
    "        width=ENV_SIZE, height=ENV_SIZE, goal_x=GOAL_X, goal_y=GOAL_Y, N=n ** 2,\n",
    "        desired_X=DX, desired_Y=DY, sensor_range=SENSOR_RANGE, leader_x=XL, leader_y=YL, robot_radius=ROBOT_RADIUS,\n",
    "        sensor_detection_count=SENSOR_DETECTION_COUNT, buffer_size=MAX_T\n",
    "    )\n",
    "env.addObstacle(400, 400, 600, 600)\n"
   ],
   "metadata": {
    "collapsed": false
   }
  },
  {
   "cell_type": "code",
   "execution_count": 36,
   "outputs": [],
   "source": [
    "episode_gui(env, 8.5, 1, 1)"
   ],
   "metadata": {
    "collapsed": false
   }
  },
  {
   "cell_type": "code",
   "execution_count": 37,
   "outputs": [],
   "source": [
    "# alive_agent_count(env)"
   ],
   "metadata": {
    "collapsed": false
   }
  },
  {
   "cell_type": "code",
   "execution_count": 38,
   "outputs": [],
   "source": [
    "n_max=50\n",
    "if not os.path.exists(directory):\n",
    "\tos.makedirs(directory)\n",
    "df=pandas.DataFrame(columns=['id','sensor_range' , 'n1', 'n2', 'n3', 'N', 'lived_agents', 'leader_goal_distance', 't', 'w1', 'w2', 'w3' ])\n",
    "df.set_index('id', inplace=True)"
   ],
   "metadata": {
    "collapsed": false
   }
  },
  {
   "cell_type": "code",
   "execution_count": 39,
   "outputs": [],
   "source": [
    "# file_name=os.path.join(directory, 'var.npz')\n",
    "n_max=50\n",
    "directory = '../run_exp_12'\n",
    "if not os.path.exists(directory):\n",
    "\tos.makedirs(directory)\n",
    "\n",
    "csv_file_name=os.path.join(directory, 'report.csv')\n",
    "if os.path.exists(csv_file_name):\n",
    "\tdf=pandas.read_csv(csv_file_name, header=None, names=['id','sensor_range' , 'n1', 'n2', 'n3', 'N', 'lived_agents', 'leader_goal_distance', 't', 'w1', 'w2', 'w3'])\n",
    "\trun, _, n01, n02, n03, n00, _, _, _, _, _, _=list(df.iloc[-1])\n",
    "\t# cur_state=numpy.load(file_name)\n",
    "\t# n03=int(n03)-1\n",
    "\t# n00=int(n00)\n",
    "\t# n01=int(n01)\n",
    "\tn02=int(n02)-1\n",
    "\tdf.set_index('id', inplace=True)\n",
    "else:\n",
    "    # killed_list=[]\n",
    "    # n01=n_max\n",
    "    n02 = n_max\n",
    "    # n03 = n_max\n",
    "    run=0\n",
    "    # n00=2\n",
    "\n",
    "fig=plt.Figure()\n",
    "ax=fig.add_subplot()\n"
   ],
   "metadata": {
    "collapsed": false
   }
  },
  {
   "cell_type": "code",
   "execution_count": 40,
   "outputs": [],
   "source": [
    "n=10\n",
    "w1=5\n",
    "w3=1\n",
    "n1=50\n",
    "n3=10\n",
    "for n2 in range(n02, -1, -1):\n",
    "\t\t\t\trun=run+1\n",
    "\t\t\t\tw2=n2/10\n",
    "\t\t\t\tprint('w3=',w3)\n",
    "\t\t\t\tprint('run='+str(run))\n",
    "\t\t\t\tep_file=os.path.join(directory, str(run)+'_'+str(n)+'_'+str(w1)+'_'+str(w2)+'_'+str(w3))\n",
    "\t\t\t\t#'id','sensor_range' , 'w1', 'w2', 'w3', 'N', 'lived_agents', 'leader_goal_distance', 't', 'v_mean'\n",
    "\t\t\t\tenv.episode(w1, w2, w3)\n",
    "\t\t\t\t# env.save_episode(ep_file)\n",
    "\n",
    "\t\t\t\trow=[SENSOR_RANGE, n1, n2, n3, n, alive_agent_count(env), leader_goal_distance(env), env.t, w1, w2, w3]\n",
    "\t\t\t\tdf.loc[run]=row\n",
    "\t\t\t\tprint(row)\n",
    "\t\t\t\t\t\t# env.episode(w1/10, w2/10, w3/10, killed_list)\n",
    "\t\t\t\t\t\t# env.save_episode(ep_file+'a')\n",
    "\n",
    "\t\t\t\t# numpy.savez(file_name, run=run, n1=n1, n2=n2, n3=n3, n=n)\n",
    "\n",
    "\t\t\t\tplot_trajectory(env, ax=ax)\n",
    "\t\t\t\tplt_file=ep_file+'.jpg'\n",
    "\t\t\t\tfig.savefig(plt_file)\n",
    "\t\t\t\tax.clear()\n",
    "\t\t\t\t# df.iloc[-1].to_csv(csv, mode='a', index=False, header=False)\n",
    "\t\t\t\t# run=run+1\n",
    "\t\t\t\twith open(csv_file_name, 'a',newline='' ) as f:\n",
    "\t\t\t\t\twriter=csv.writer(f)\n",
    "\t\t\t\t\twriter.writerow([run]+row)\n",
    "\n",
    "\t\t\t\t# run=run+1\n",
    "\t\t\t\t# df.to_csv()\n",
    "\n",
    "n02=n_max"
   ],
   "metadata": {
    "collapsed": false
   }
  },
  {
   "cell_type": "code",
   "execution_count": 41,
   "outputs": [
    {
     "data": {
      "text/plain": "      sensor_range  n1  n2  n3   N  lived_agents  leader_goal_distance      t  \\\nid                                                                              \n42.0            10  50   9  10  10            64              0.254727  50000   \n44.0            10  50   7  10  10            72              0.238505  50000   \n46.0            10  50   5  10  10            46              0.470753  50000   \n48.0            10  50   3  10  10            48              0.363492  50000   \n49.0            10  50   2  10  10            38              0.205498  50000   \n50.0            10  50   1  10  10            45              0.060098  50000   \n\n      w1   w2  w3  \nid                 \n42.0   5  0.9   1  \n44.0   5  0.7   1  \n46.0   5  0.5   1  \n48.0   5  0.3   1  \n49.0   5  0.2   1  \n50.0   5  0.1   1  ",
      "text/html": "<div>\n<style scoped>\n    .dataframe tbody tr th:only-of-type {\n        vertical-align: middle;\n    }\n\n    .dataframe tbody tr th {\n        vertical-align: top;\n    }\n\n    .dataframe thead th {\n        text-align: right;\n    }\n</style>\n<table border=\"1\" class=\"dataframe\">\n  <thead>\n    <tr style=\"text-align: right;\">\n      <th></th>\n      <th>sensor_range</th>\n      <th>n1</th>\n      <th>n2</th>\n      <th>n3</th>\n      <th>N</th>\n      <th>lived_agents</th>\n      <th>leader_goal_distance</th>\n      <th>t</th>\n      <th>w1</th>\n      <th>w2</th>\n      <th>w3</th>\n    </tr>\n    <tr>\n      <th>id</th>\n      <th></th>\n      <th></th>\n      <th></th>\n      <th></th>\n      <th></th>\n      <th></th>\n      <th></th>\n      <th></th>\n      <th></th>\n      <th></th>\n      <th></th>\n    </tr>\n  </thead>\n  <tbody>\n    <tr>\n      <th>42.0</th>\n      <td>10</td>\n      <td>50</td>\n      <td>9</td>\n      <td>10</td>\n      <td>10</td>\n      <td>64</td>\n      <td>0.254727</td>\n      <td>50000</td>\n      <td>5</td>\n      <td>0.9</td>\n      <td>1</td>\n    </tr>\n    <tr>\n      <th>44.0</th>\n      <td>10</td>\n      <td>50</td>\n      <td>7</td>\n      <td>10</td>\n      <td>10</td>\n      <td>72</td>\n      <td>0.238505</td>\n      <td>50000</td>\n      <td>5</td>\n      <td>0.7</td>\n      <td>1</td>\n    </tr>\n    <tr>\n      <th>46.0</th>\n      <td>10</td>\n      <td>50</td>\n      <td>5</td>\n      <td>10</td>\n      <td>10</td>\n      <td>46</td>\n      <td>0.470753</td>\n      <td>50000</td>\n      <td>5</td>\n      <td>0.5</td>\n      <td>1</td>\n    </tr>\n    <tr>\n      <th>48.0</th>\n      <td>10</td>\n      <td>50</td>\n      <td>3</td>\n      <td>10</td>\n      <td>10</td>\n      <td>48</td>\n      <td>0.363492</td>\n      <td>50000</td>\n      <td>5</td>\n      <td>0.3</td>\n      <td>1</td>\n    </tr>\n    <tr>\n      <th>49.0</th>\n      <td>10</td>\n      <td>50</td>\n      <td>2</td>\n      <td>10</td>\n      <td>10</td>\n      <td>38</td>\n      <td>0.205498</td>\n      <td>50000</td>\n      <td>5</td>\n      <td>0.2</td>\n      <td>1</td>\n    </tr>\n    <tr>\n      <th>50.0</th>\n      <td>10</td>\n      <td>50</td>\n      <td>1</td>\n      <td>10</td>\n      <td>10</td>\n      <td>45</td>\n      <td>0.060098</td>\n      <td>50000</td>\n      <td>5</td>\n      <td>0.1</td>\n      <td>1</td>\n    </tr>\n  </tbody>\n</table>\n</div>"
     },
     "execution_count": 41,
     "metadata": {},
     "output_type": "execute_result"
    }
   ],
   "source": [
    "df[df['t']==50000]"
   ],
   "metadata": {
    "collapsed": false
   }
  },
  {
   "cell_type": "code",
   "execution_count": null,
   "outputs": [
    {
     "name": "stdout",
     "output_type": "stream",
     "text": [
      "w1= 8.5\n",
      "run=16.0\n"
     ]
    }
   ],
   "source": [
    " # file_name=os.path.join(directory, 'var.npz')\n",
    "n_max=100\n",
    "directory = '../run_exp_11'\n",
    "if not os.path.exists(directory):\n",
    "\tos.makedirs(directory)\n",
    "\n",
    "csv_file_name = os.path.join(directory, 'report.csv')\n",
    "if os.path.exists(csv_file_name):\n",
    "\tdf = pandas.read_csv(csv_file_name, header=None,\n",
    "\t\t\t\t\t\t names=['id', 'sensor_range', 'n1', 'n2', 'n3', 'N', 'lived_agents', 'leader_goal_distance',\n",
    "\t\t\t\t\t\t\t\t't', 'w1', 'w2', 'w3'])\n",
    "\trun, _, n01, n02, n03, n00, _, _, _, _, _, _ = list(df.iloc[-1])\n",
    "\t# cur_state=numpy.load(file_name)\n",
    "\t# n03=int(n03)-1\n",
    "\t# n00=int(n00)\n",
    "\t# n01=int(n01)\n",
    "\tn01 = int(n01) - 1\n",
    "\tdf.set_index('id', inplace=True)\n",
    "else:\n",
    "\t# killed_list=[]\n",
    "\t# n01=n_max\n",
    "\tn01 = n_max\n",
    "\t# n03 = n_max\n",
    "\trun = 0\n",
    "# n00=2\n",
    "\n",
    "fig = plt.Figure()\n",
    "ax = fig.add_subplot()\n",
    "\n",
    "n = 10\n",
    "w2 = 1\n",
    "w3 = 1\n",
    "n2 = 10\n",
    "n3 = 10\n",
    "for n1 in range(n01, -1, -1):\n",
    "\trun = run + 1\n",
    "\tw1 = n1 / 10\n",
    "\tprint('w1=', w1)\n",
    "\tprint('run=' + str(run))\n",
    "\tep_file = os.path.join(directory, str(run) + '_' + str(n) + '_' + str(w1) + '_' + str(w2) + '_' + str(w3))\n",
    "\t#'id','sensor_range' , 'w1', 'w2', 'w3', 'N', 'lived_agents', 'leader_goal_distance', 't', 'v_mean'\n",
    "\tenv.episode(w1, w2, w3)\n",
    "\t# env.save_episode(ep_file)\n",
    "\n",
    "\trow = [SENSOR_RANGE, n1, n2, n3, n, alive_agent_count(env), leader_goal_distance(env), env.t, w1, w2, w3]\n",
    "\tdf.loc[run] = row\n",
    "\tprint(row)\n",
    "\t# env.episode(w1/10, w2/10, w3/10, killed_list)\n",
    "\t# env.save_episode(ep_file+'a')\n",
    "\n",
    "\t# numpy.savez(file_name, run=run, n1=n1, n2=n2, n3=n3, n=n)\n",
    "\n",
    "\tplot_trajectory(env, ax=ax)\n",
    "\tplt_file = ep_file + '.jpg'\n",
    "\tfig.savefig(plt_file)\n",
    "\tax.clear()\n",
    "\t# df.iloc[-1].to_csv(csv, mode='a', index=False, header=False)\n",
    "\t# run=run+1\n",
    "\twith open(csv_file_name, 'a', newline='') as f:\n",
    "\t\twriter = csv.writer(f)\n",
    "\t\twriter.writerow([run] + row)\n",
    "\n",
    "# run=run+1\n",
    "# df.to_csv()\n",
    "\n",
    "n01 = n_max"
   ],
   "metadata": {
    "collapsed": false,
    "pycharm": {
     "is_executing": true
    }
   }
  },
  {
   "cell_type": "code",
   "execution_count": null,
   "outputs": [],
   "source": [
    "# file_name=os.path.join(directory, 'var.npz')\n",
    "n_max=100\n",
    "directory = '../run_exp_13'\n",
    "if not os.path.exists(directory):\n",
    "\tos.makedirs(directory)\n",
    "\n",
    "csv_file_name = os.path.join(directory, 'report.csv')\n",
    "if os.path.exists(csv_file_name):\n",
    "\tdf = pandas.read_csv(csv_file_name, header=None,\n",
    "\t\t\t\t\t\t names=['id', 'sensor_range', 'n1', 'n2', 'n3', 'N', 'lived_agents', 'leader_goal_distance',\n",
    "\t\t\t\t\t\t\t\t't', 'w1', 'w2', 'w3'])\n",
    "\trun, _, n01, n02, n03, n00, _, _, _, _, _, _ = list(df.iloc[-1])\n",
    "\t# cur_state=numpy.load(file_name)\n",
    "\t# n03=int(n03)-1\n",
    "\t# n00=int(n00)\n",
    "\t# n01=int(n01)\n",
    "\tn03 = int(n03) - 1\n",
    "\tdf.set_index('id', inplace=True)\n",
    "else:\n",
    "\t# killed_list=[]\n",
    "\t# n01=n_max\n",
    "\tn03 = n_max\n",
    "\t# n03 = n_max\n",
    "\trun = 0\n",
    "# n00=2\n",
    "\n",
    "fig = plt.Figure()\n",
    "ax = fig.add_subplot()\n",
    "\n",
    "n = 10\n",
    "w1 = 5\n",
    "w2 = 5\n",
    "n1 = 50\n",
    "n2 = 50\n",
    "for n3 in range(n03, -1, -1):\n",
    "\trun = run + 1\n",
    "\tw3 = n3 / 10\n",
    "\tprint('w3=', w3)\n",
    "\tprint('run=' + str(run))\n",
    "\tep_file = os.path.join(directory, str(run) + '_' + str(n) + '_' + str(w1) + '_' + str(w2) + '_' + str(w3))\n",
    "\t#'id','sensor_range' , 'w1', 'w2', 'w3', 'N', 'lived_agents', 'leader_goal_distance', 't', 'v_mean'\n",
    "\tenv.episode(w1, w2, w3)\n",
    "\t# env.save_episode(ep_file)\n",
    "\n",
    "\trow = [SENSOR_RANGE, n1, n2, n3, n, alive_agent_count(env), leader_goal_distance(env), env.t, w1, w2, w3]\n",
    "\tdf.loc[run] = row\n",
    "\tprint(row)\n",
    "\t# env.episode(w1/10, w2/10, w3/10, killed_list)\n",
    "\t# env.save_episode(ep_file+'a')\n",
    "\n",
    "\t# numpy.savez(file_name, run=run, n1=n1, n2=n2, n3=n3, n=n)\n",
    "\n",
    "\tplot_trajectory(env, ax=ax)\n",
    "\tplt_file = ep_file + '.jpg'\n",
    "\tfig.savefig(plt_file)\n",
    "\tax.clear()\n",
    "\t# df.iloc[-1].to_csv(csv, mode='a', index=False, header=False)\n",
    "\t# run=run+1\n",
    "\twith open(csv_file_name, 'a', newline='') as f:\n",
    "\t\twriter = csv.writer(f)\n",
    "\t\twriter.writerow([run] + row)\n",
    "\n",
    "# run=run+1\n",
    "# df.to_csv()\n",
    "\n",
    "n03 = n_max"
   ],
   "metadata": {
    "collapsed": false,
    "pycharm": {
     "is_executing": true
    }
   }
  }
 ],
 "metadata": {
  "kernelspec": {
   "display_name": "Python 3",
   "language": "python",
   "name": "python3"
  },
  "language_info": {
   "codemirror_mode": {
    "name": "ipython",
    "version": 2
   },
   "file_extension": ".py",
   "mimetype": "text/x-python",
   "name": "python",
   "nbconvert_exporter": "python",
   "pygments_lexer": "ipython2",
   "version": "2.7.6"
  }
 },
 "nbformat": 4,
 "nbformat_minor": 0
}
